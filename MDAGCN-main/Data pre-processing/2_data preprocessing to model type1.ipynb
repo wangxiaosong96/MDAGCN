{
 "cells": [
  {
   "cell_type": "code",
   "execution_count": 1,
   "metadata": {},
   "outputs": [],
   "source": [
    "import numpy as np\n",
    "import pandas as pd\n",
    "from tqdm import tqdm\n",
    "import scipy.sparse as sp\n",
    "from copy import deepcopy\n",
    "import warnings \n",
    "import os\n",
    "from sklearn.model_selection import KFold\n",
    "import json\n",
    "warnings.filterwarnings(\"ignore\") \n",
    "import random\n",
    "random.seed(1234)\n",
    "np.random.seed(1234)"
   ]
  },
  {
   "cell_type": "code",
   "execution_count": 2,
   "metadata": {},
   "outputs": [],
   "source": [
    "def obtain_data(task, isbalance, balance):\n",
    "    \n",
    "    pwd = 'E:/graph data/type1平衡数据/'\n",
    "    if isbalance:\n",
    "        node_feature_label = pd.read_csv(pwd + 'node_feature_label__balance.csv', index_col = 0)\n",
    "    else:\n",
    "        node_feature_label = pd.read_csv(pwd + 'node_feature_label__nobalance.csv', index_col = 0)\n",
    "    \n",
    "    train_test_id_idx = np.load('E:/graph data/type1平衡数据/' + task + balance + '__testlabel0_knn_edge_train_test_index_all.npz', allow_pickle = True)\n",
    "    train_index_all = train_test_id_idx['train_index_all']##k=3的所有5flod数据放在一起\n",
    "    test_index_all = train_test_id_idx['test_index_all']\n",
    "    \n",
    "\n",
    "    \n",
    "    num_node = node_feature_label.shape[0]   ###节点总数3508\n",
    "    node_feat = node_feature_label.iloc[:, 3:]   ####所有的节点特征3508x848\n",
    "    label = node_feature_label['label']   ##所有的节点标签  3508\n",
    "    \n",
    "    print('num_node',num_node)\n",
    "    print('node_feat',node_feat)\n",
    "    print(label)\n",
    "\n",
    "    mirna_ids = list(set(node_feature_label['Drug']))  ##184   184种药物对应的序号\n",
    "    disease_ids = list(set(node_feature_label['Mutation']))###661  661种突变对应的序号\n",
    "    random.shuffle(mirna_ids) #将序列的所有元素随机排序。\n",
    "    random.shuffle(disease_ids)\n",
    "    print('# Drug = {} | Mutation = {}'.format(len(mirna_ids), len(disease_ids)))\n",
    "    \n",
    "    #print('mirna_ids',mirna_ids)\n",
    "    #print('disease_ids',disease_ids)\n",
    "    \n",
    "    \n",
    "    mirna_test_num = int(len(mirna_ids) / 5)\n",
    "    disease_test_num = int(len(disease_ids) / 5)\n",
    "    print('# Test: Drug = {} | Mutation = {}'.format(mirna_test_num, disease_test_num))\n",
    "    ##从全部数据中选择1/5的测试集数据\n",
    "    \n",
    "    \n",
    "    return node_feature_label, num_node, node_feat, label, mirna_ids, disease_ids, train_index_all, test_index_all"
   ]
  },
  {
   "cell_type": "code",
   "execution_count": 3,
   "metadata": {},
   "outputs": [],
   "source": [
    "def generate_graphsaint_data(task, train_index_all, test_index_all, node_feat, n_neigh, label, num_node, balance):\n",
    "\n",
    "    fold = 0\n",
    "    for train_idx, test_idx in zip(train_index_all, test_index_all): #train_index与test_index为下标\n",
    "        # read knn_graph\n",
    "        pwd = 'E:/graph data/type1平衡数据/'\n",
    "        knn_graph_file = 'task_' + task + balance + '__testlabel0_knn' + str(n_neigh) + 'neighbors_edge__fold' + str(fold) + '.npz'\n",
    "        knn_neighbors_graph = sp.load_npz(pwd + knn_graph_file)\n",
    "\n",
    "        edge_src_dst = knn_neighbors_graph.nonzero()\n",
    "        #print(edge_src_dst)\n",
    "        \n",
    "        #save dir\n",
    "        save_dir = 'E:/graph data/type1平衡数据/type1平衡数据数据预处理模型/task_' + task + balance + '__testlabel0_' + str(n_neigh) + 'knn_edge_fold' + str(fold) + '/'\n",
    "\n",
    "        try:\n",
    "            os.mkdir(save_dir)\n",
    "        except OSError as error:\n",
    "            print(error, save_dir)    \n",
    "        ##先执行try的语句   如果错误  就执行except的语句   程序继续向下执行    \n",
    "            \n",
    "            \n",
    "            \n",
    "        # feats.npy，不需要自己标准化！因为在utils.py中的load_data中有标准化的步骤哦！\n",
    "        feats = np.array(node_feat)\n",
    "        np.save(save_dir + 'feats.npy', feats)\n",
    "        #print('feats',feats)  ##feats   节点特征3508x848\n",
    "        \n",
    "        try:\n",
    "            train_idx, test_idx = train_idx.tolist(), test_idx.tolist()\n",
    "        except:\n",
    "            train_idx, test_idx = train_idx, test_idx\n",
    "            \n",
    "        # role.json\n",
    "        role = dict()\n",
    "        role['tr'] = train_idx   ##2806\n",
    "        role['va'] = test_idx    ###702\n",
    "        role['te'] = test_idx    ###702 \n",
    "        with open(save_dir + 'role.json','w') as f:\n",
    "            json.dump(role, f)\n",
    "        #print('json.dump(role, f)',role)   \n",
    "        #print('role',len(train_idx))\n",
    "\n",
    "        # class_map.json\n",
    "        y = np.array(label)\n",
    "        #print('y',len(y))\n",
    "        class_map = dict()\n",
    "        for i in range(num_node):\n",
    "            class_map[str(i)] = y[i].tolist()\n",
    "        with open(save_dir + 'class_map.json', 'w') as f:\n",
    "            json.dump(class_map, f)\n",
    "        #print('class_map:',class_map)\n",
    "        \n",
    "            \n",
    "        # adj_*.npz\n",
    "        train_idx_set = set(train_idx)\n",
    "        test_idx_set = set(test_idx)\n",
    "        \n",
    "        row_full, col_full = edge_src_dst[0], edge_src_dst[1]\n",
    "        \n",
    "        row_train = []\n",
    "        col_train = []\n",
    "        row_val = []\n",
    "        col_val = []\n",
    "        for i in tqdm(range(row_full.shape[0])):\n",
    "            if row_full[i] in train_idx_set and col_full[i] in train_idx_set:\n",
    "                row_train.append(row_full[i])\n",
    "                col_train.append(col_full[i])\n",
    "            if row_full[i] in test_idx_set and col_full[i] in test_idx_set:\n",
    "                row_val.append(row_full[i])\n",
    "                col_val.append(col_full[i])\n",
    "\n",
    "        row_train = np.array(row_train)\n",
    "        col_train = np.array(col_train)\n",
    "        row_val = np.array(row_val)\n",
    "        col_val = np.array(col_val)\n",
    "        dtype = np.bool\n",
    "\n",
    "        adj_full = sp.coo_matrix(\n",
    "            (\n",
    "                np.ones(row_full.shape[0], dtype=dtype),\n",
    "                (row_full, col_full),\n",
    "            ),\n",
    "            shape=(num_node, num_node)\n",
    "        ).tocsr()\n",
    "        \n",
    "        #print('adj_full',adj_full)\n",
    "        \n",
    "\n",
    "        adj_train = sp.coo_matrix(\n",
    "            (\n",
    "                np.ones(row_train.shape[0], dtype=dtype),\n",
    "                (row_train, col_train),\n",
    "            ),\n",
    "            shape=(num_node, num_node)\n",
    "        ).tocsr()\n",
    "        \n",
    "        \n",
    "        #print('adj_train',adj_train)\n",
    "\n",
    "        adj_val = sp.coo_matrix(\n",
    "            (\n",
    "                np.ones(row_val.shape[0], dtype=dtype),\n",
    "                (row_val, col_val),\n",
    "            ),\n",
    "            shape=(num_node, num_node)\n",
    "        ).tocsr()\n",
    "        \n",
    "        #print('adj_val',adj_val)\n",
    "\n",
    "        #print('adj_full  num edges:', adj_full.nnz)\n",
    "        #print('adj_val   num edges:', adj_val.nnz)\n",
    "        #print('adj_train num edges:', adj_train.nnz)\n",
    "        sp.save_npz(save_dir + 'adj_full.npz', adj_full)\n",
    "        sp.save_npz(save_dir + 'adj_train.npz', adj_train)\n",
    "        sp.save_npz(save_dir + 'adj_val.npz', adj_val) # adj_val not used in GraphSAINT source code\n",
    "\n",
    "        fold += 1\n",
    "    \n",
    "    print('--Complete--', fold)\n",
    "    return   feats, role, class_map, adj_full, adj_train, adj_val, edge_src_dst"
   ]
  },
  {
   "cell_type": "code",
   "execution_count": 4,
   "metadata": {},
   "outputs": [],
   "source": [
    "def run(task, isbalance):\n",
    "    \n",
    "    if isbalance:\n",
    "        balance = ''\n",
    "    else:\n",
    "        balance = '__nobalance'\n",
    "\n",
    "    #for n_neigh in [1 ,3, 5, 7, 10, 15]:\n",
    "    for n_neigh in [3, 5, 7, 10, 15]:\n",
    "\n",
    "        node_feature_label, num_node, node_feat, label, mirna_ids, disease_ids, train_index_all, test_index_all = obtain_data(task, \n",
    "                                                                                                                              isbalance,\n",
    "                                                                                                                              balance)\n",
    "        feats, role, class_map, adj_full, adj_train, adj_val, edge_src_dst = generate_graphsaint_data(task, \n",
    "                                                                                        train_index_all, \n",
    "                                                                                        test_index_all, \n",
    "                                                                                        node_feat, \n",
    "                                                                                        n_neigh, \n",
    "                                                                                        label, \n",
    "                                                                                        num_node, \n",
    "                                                                                        balance)\n",
    "    return node_feature_label, num_node, node_feat, label, mirna_ids, disease_ids, train_index_all, test_index_all, \\\n",
    "    feats, role, class_map, adj_full, adj_train, adj_val, edge_src_dst"
   ]
  },
  {
   "cell_type": "markdown",
   "metadata": {},
   "source": [
    "# RUN balance"
   ]
  },
  {
   "cell_type": "code",
   "execution_count": 5,
   "metadata": {
    "scrolled": true
   },
   "outputs": [
    {
     "name": "stdout",
     "output_type": "stream",
     "text": [
      "num_node 1670\n",
      "node_feat            0_x       1_x       2_x       3_x       4_x       5_x       6_x  \\\n",
      "0     0.000000  0.227305  0.195368  0.222083  0.218782  0.199313  0.206095   \n",
      "1     0.891151  0.959950  0.975833  0.987653  0.993496  0.967372  0.000000   \n",
      "2     0.920408  0.950667  0.991906  0.995222  0.992450  0.991524  0.987794   \n",
      "3     0.871441  0.889783  0.993341  0.968516  0.956858  0.998308  0.951931   \n",
      "4     0.894709  0.969457  0.841373  0.915243  0.938411  0.825470  0.938192   \n",
      "...        ...       ...       ...       ...       ...       ...       ...   \n",
      "1665  0.859920  0.909371  0.997017  0.973323  0.969097  0.997544  0.972053   \n",
      "1666  0.859920  0.909371  0.997017  0.973323  0.969097  0.997544  0.972053   \n",
      "1667  0.929509  0.993179  0.886432  0.955361  0.972236  0.877694  0.959136   \n",
      "1668  0.960399  0.973907  0.974810  0.000000  0.999249  0.973968  0.987774   \n",
      "1669  0.960399  0.973907  0.974810  0.000000  0.999249  0.973968  0.987774   \n",
      "\n",
      "           7_x       8_x       9_x  ...       652       653       654  \\\n",
      "0     0.212841  0.217671  0.201541  ...  0.016899  0.323742  0.096341   \n",
      "1     0.987698  0.970435  0.951951  ...  0.016899  0.323742  0.096341   \n",
      "2     0.000000  0.943036  0.986653  ...  0.016899  0.323742  0.096341   \n",
      "3     0.986537  0.873554  0.000000  ...  0.016899  0.323742  0.096341   \n",
      "4     0.888621  0.987485  0.799052  ...  0.016899  0.323742  0.096341   \n",
      "...        ...       ...       ...  ...       ...       ...       ...   \n",
      "1665  0.992334  0.903598  0.992848  ...  0.293223  0.815720  0.547602   \n",
      "1666  0.992334  0.903598  0.992848  ...  0.878446  0.361161  0.657227   \n",
      "1667  0.932602  0.996440  0.861148  ...  0.999252  0.681831  0.905144   \n",
      "1668  0.995247  0.964707  0.968654  ...  0.999252  0.681831  0.905144   \n",
      "1669  0.995247  0.964707  0.968654  ...  0.129589  0.636150  0.342989   \n",
      "\n",
      "           655       656       657       658       659       660       661  \n",
      "0     0.630828  0.025670  0.319648  0.105309  0.944750  0.017539  0.009843  \n",
      "1     0.630828  0.025670  0.319648  0.105309  0.944750  0.017539  0.009843  \n",
      "2     0.630828  0.025670  0.319648  0.105309  0.944750  0.017539  0.009843  \n",
      "3     0.630828  0.025670  0.319648  0.105309  0.944750  0.017539  0.009843  \n",
      "4     0.630828  0.025670  0.319648  0.105309  0.944750  0.017539  0.009843  \n",
      "...        ...       ...       ...       ...       ...       ...       ...  \n",
      "1665  0.990859  0.328092  0.004422  0.082679  0.865627  0.348156  0.318990  \n",
      "1666  0.098256  0.852877  0.935348  0.970010  0.034550  0.838056  0.855241  \n",
      "1667  0.380585  0.991073  0.673679  0.880756  0.040188  0.993083  0.983597  \n",
      "1668  0.380585  0.991073  0.673679  0.880756  0.040188  0.993083  0.983597  \n",
      "1669  0.910933  0.154333  0.058466  0.007521  0.956120  0.171003  0.145920  \n",
      "\n",
      "[1670 rows x 847 columns]\n",
      "0       1\n",
      "1       1\n",
      "2       1\n",
      "3       1\n",
      "4       1\n",
      "       ..\n",
      "1665    0\n",
      "1666    0\n",
      "1667    0\n",
      "1668    0\n",
      "1669    0\n",
      "Name: label, Length: 1670, dtype: int64\n",
      "# Drug = 184 | Mutation = 639\n",
      "# Test: Drug = 36 | Mutation = 127\n",
      "[WinError 183] 当文件已存在时，无法创建该文件。: 'E:/graph data/type1平衡数据/type1平衡数据数据预处理模型/task_Tp__testlabel0_3knn_edge_fold0/' E:/graph data/type1平衡数据/type1平衡数据数据预处理模型/task_Tp__testlabel0_3knn_edge_fold0/\n"
     ]
    },
    {
     "name": "stderr",
     "output_type": "stream",
     "text": [
      "100%|██████████| 5010/5010 [00:00<00:00, 1010699.97it/s]\n"
     ]
    },
    {
     "name": "stdout",
     "output_type": "stream",
     "text": [
      "[WinError 183] 当文件已存在时，无法创建该文件。: 'E:/graph data/type1平衡数据/type1平衡数据数据预处理模型/task_Tp__testlabel0_3knn_edge_fold1/' E:/graph data/type1平衡数据/type1平衡数据数据预处理模型/task_Tp__testlabel0_3knn_edge_fold1/\n"
     ]
    },
    {
     "name": "stderr",
     "output_type": "stream",
     "text": [
      "100%|██████████| 5010/5010 [00:00<00:00, 1014603.98it/s]\n"
     ]
    },
    {
     "name": "stdout",
     "output_type": "stream",
     "text": [
      "[WinError 183] 当文件已存在时，无法创建该文件。: 'E:/graph data/type1平衡数据/type1平衡数据数据预处理模型/task_Tp__testlabel0_3knn_edge_fold2/' E:/graph data/type1平衡数据/type1平衡数据数据预处理模型/task_Tp__testlabel0_3knn_edge_fold2/\n"
     ]
    },
    {
     "name": "stderr",
     "output_type": "stream",
     "text": [
      "100%|██████████| 5010/5010 [00:00<00:00, 1004563.68it/s]"
     ]
    },
    {
     "name": "stdout",
     "output_type": "stream",
     "text": [
      "[WinError 183] 当文件已存在时，无法创建该文件。: 'E:/graph data/type1平衡数据/type1平衡数据数据预处理模型/task_Tp__testlabel0_3knn_edge_fold3/' E:/graph data/type1平衡数据/type1平衡数据数据预处理模型/task_Tp__testlabel0_3knn_edge_fold3/\n"
     ]
    },
    {
     "name": "stderr",
     "output_type": "stream",
     "text": [
      "\n",
      "100%|██████████| 5010/5010 [00:00<00:00, 840807.58it/s]\n"
     ]
    },
    {
     "name": "stdout",
     "output_type": "stream",
     "text": [
      "[WinError 183] 当文件已存在时，无法创建该文件。: 'E:/graph data/type1平衡数据/type1平衡数据数据预处理模型/task_Tp__testlabel0_3knn_edge_fold4/' E:/graph data/type1平衡数据/type1平衡数据数据预处理模型/task_Tp__testlabel0_3knn_edge_fold4/\n"
     ]
    },
    {
     "name": "stderr",
     "output_type": "stream",
     "text": [
      "100%|██████████| 5010/5010 [00:00<00:00, 837356.57it/s]\n"
     ]
    },
    {
     "name": "stdout",
     "output_type": "stream",
     "text": [
      "--Complete-- 5\n",
      "num_node 1670\n",
      "node_feat            0_x       1_x       2_x       3_x       4_x       5_x       6_x  \\\n",
      "0     0.000000  0.227305  0.195368  0.222083  0.218782  0.199313  0.206095   \n",
      "1     0.891151  0.959950  0.975833  0.987653  0.993496  0.967372  0.000000   \n",
      "2     0.920408  0.950667  0.991906  0.995222  0.992450  0.991524  0.987794   \n",
      "3     0.871441  0.889783  0.993341  0.968516  0.956858  0.998308  0.951931   \n",
      "4     0.894709  0.969457  0.841373  0.915243  0.938411  0.825470  0.938192   \n",
      "...        ...       ...       ...       ...       ...       ...       ...   \n",
      "1665  0.859920  0.909371  0.997017  0.973323  0.969097  0.997544  0.972053   \n",
      "1666  0.859920  0.909371  0.997017  0.973323  0.969097  0.997544  0.972053   \n",
      "1667  0.929509  0.993179  0.886432  0.955361  0.972236  0.877694  0.959136   \n",
      "1668  0.960399  0.973907  0.974810  0.000000  0.999249  0.973968  0.987774   \n",
      "1669  0.960399  0.973907  0.974810  0.000000  0.999249  0.973968  0.987774   \n",
      "\n",
      "           7_x       8_x       9_x  ...       652       653       654  \\\n",
      "0     0.212841  0.217671  0.201541  ...  0.016899  0.323742  0.096341   \n",
      "1     0.987698  0.970435  0.951951  ...  0.016899  0.323742  0.096341   \n",
      "2     0.000000  0.943036  0.986653  ...  0.016899  0.323742  0.096341   \n",
      "3     0.986537  0.873554  0.000000  ...  0.016899  0.323742  0.096341   \n",
      "4     0.888621  0.987485  0.799052  ...  0.016899  0.323742  0.096341   \n",
      "...        ...       ...       ...  ...       ...       ...       ...   \n",
      "1665  0.992334  0.903598  0.992848  ...  0.293223  0.815720  0.547602   \n",
      "1666  0.992334  0.903598  0.992848  ...  0.878446  0.361161  0.657227   \n",
      "1667  0.932602  0.996440  0.861148  ...  0.999252  0.681831  0.905144   \n",
      "1668  0.995247  0.964707  0.968654  ...  0.999252  0.681831  0.905144   \n",
      "1669  0.995247  0.964707  0.968654  ...  0.129589  0.636150  0.342989   \n",
      "\n",
      "           655       656       657       658       659       660       661  \n",
      "0     0.630828  0.025670  0.319648  0.105309  0.944750  0.017539  0.009843  \n",
      "1     0.630828  0.025670  0.319648  0.105309  0.944750  0.017539  0.009843  \n",
      "2     0.630828  0.025670  0.319648  0.105309  0.944750  0.017539  0.009843  \n",
      "3     0.630828  0.025670  0.319648  0.105309  0.944750  0.017539  0.009843  \n",
      "4     0.630828  0.025670  0.319648  0.105309  0.944750  0.017539  0.009843  \n",
      "...        ...       ...       ...       ...       ...       ...       ...  \n",
      "1665  0.990859  0.328092  0.004422  0.082679  0.865627  0.348156  0.318990  \n",
      "1666  0.098256  0.852877  0.935348  0.970010  0.034550  0.838056  0.855241  \n",
      "1667  0.380585  0.991073  0.673679  0.880756  0.040188  0.993083  0.983597  \n",
      "1668  0.380585  0.991073  0.673679  0.880756  0.040188  0.993083  0.983597  \n",
      "1669  0.910933  0.154333  0.058466  0.007521  0.956120  0.171003  0.145920  \n",
      "\n",
      "[1670 rows x 847 columns]\n",
      "0       1\n",
      "1       1\n",
      "2       1\n",
      "3       1\n",
      "4       1\n",
      "       ..\n",
      "1665    0\n",
      "1666    0\n",
      "1667    0\n",
      "1668    0\n",
      "1669    0\n",
      "Name: label, Length: 1670, dtype: int64\n",
      "# Drug = 184 | Mutation = 639\n",
      "# Test: Drug = 36 | Mutation = 127\n",
      "[WinError 183] 当文件已存在时，无法创建该文件。: 'E:/graph data/type1平衡数据/type1平衡数据数据预处理模型/task_Tp__testlabel0_5knn_edge_fold0/' E:/graph data/type1平衡数据/type1平衡数据数据预处理模型/task_Tp__testlabel0_5knn_edge_fold0/\n"
     ]
    },
    {
     "name": "stderr",
     "output_type": "stream",
     "text": [
      "100%|██████████| 8350/8350 [00:00<00:00, 1046539.32it/s]\n"
     ]
    },
    {
     "name": "stdout",
     "output_type": "stream",
     "text": [
      "[WinError 183] 当文件已存在时，无法创建该文件。: 'E:/graph data/type1平衡数据/type1平衡数据数据预处理模型/task_Tp__testlabel0_5knn_edge_fold1/' E:/graph data/type1平衡数据/type1平衡数据数据预处理模型/task_Tp__testlabel0_5knn_edge_fold1/\n"
     ]
    },
    {
     "name": "stderr",
     "output_type": "stream",
     "text": [
      "100%|██████████| 8350/8350 [00:00<00:00, 1043421.37it/s]\n"
     ]
    },
    {
     "name": "stdout",
     "output_type": "stream",
     "text": [
      "[WinError 183] 当文件已存在时，无法创建该文件。: 'E:/graph data/type1平衡数据/type1平衡数据数据预处理模型/task_Tp__testlabel0_5knn_edge_fold2/' E:/graph data/type1平衡数据/type1平衡数据数据预处理模型/task_Tp__testlabel0_5knn_edge_fold2/\n"
     ]
    },
    {
     "name": "stderr",
     "output_type": "stream",
     "text": [
      "100%|██████████| 8350/8350 [00:00<00:00, 1046695.71it/s]\n"
     ]
    },
    {
     "name": "stdout",
     "output_type": "stream",
     "text": [
      "[WinError 183] 当文件已存在时，无法创建该文件。: 'E:/graph data/type1平衡数据/type1平衡数据数据预处理模型/task_Tp__testlabel0_5knn_edge_fold3/' E:/graph data/type1平衡数据/type1平衡数据数据预处理模型/task_Tp__testlabel0_5knn_edge_fold3/\n"
     ]
    },
    {
     "name": "stderr",
     "output_type": "stream",
     "text": [
      "100%|██████████| 8350/8350 [00:00<00:00, 927329.11it/s]\n"
     ]
    },
    {
     "name": "stdout",
     "output_type": "stream",
     "text": [
      "[WinError 183] 当文件已存在时，无法创建该文件。: 'E:/graph data/type1平衡数据/type1平衡数据数据预处理模型/task_Tp__testlabel0_5knn_edge_fold4/' E:/graph data/type1平衡数据/type1平衡数据数据预处理模型/task_Tp__testlabel0_5knn_edge_fold4/\n"
     ]
    },
    {
     "name": "stderr",
     "output_type": "stream",
     "text": [
      "100%|██████████| 8350/8350 [00:00<00:00, 322012.84it/s]\n"
     ]
    },
    {
     "name": "stdout",
     "output_type": "stream",
     "text": [
      "--Complete-- 5\n",
      "num_node 1670\n",
      "node_feat            0_x       1_x       2_x       3_x       4_x       5_x       6_x  \\\n",
      "0     0.000000  0.227305  0.195368  0.222083  0.218782  0.199313  0.206095   \n",
      "1     0.891151  0.959950  0.975833  0.987653  0.993496  0.967372  0.000000   \n",
      "2     0.920408  0.950667  0.991906  0.995222  0.992450  0.991524  0.987794   \n",
      "3     0.871441  0.889783  0.993341  0.968516  0.956858  0.998308  0.951931   \n",
      "4     0.894709  0.969457  0.841373  0.915243  0.938411  0.825470  0.938192   \n",
      "...        ...       ...       ...       ...       ...       ...       ...   \n",
      "1665  0.859920  0.909371  0.997017  0.973323  0.969097  0.997544  0.972053   \n",
      "1666  0.859920  0.909371  0.997017  0.973323  0.969097  0.997544  0.972053   \n",
      "1667  0.929509  0.993179  0.886432  0.955361  0.972236  0.877694  0.959136   \n",
      "1668  0.960399  0.973907  0.974810  0.000000  0.999249  0.973968  0.987774   \n",
      "1669  0.960399  0.973907  0.974810  0.000000  0.999249  0.973968  0.987774   \n",
      "\n",
      "           7_x       8_x       9_x  ...       652       653       654  \\\n",
      "0     0.212841  0.217671  0.201541  ...  0.016899  0.323742  0.096341   \n",
      "1     0.987698  0.970435  0.951951  ...  0.016899  0.323742  0.096341   \n",
      "2     0.000000  0.943036  0.986653  ...  0.016899  0.323742  0.096341   \n",
      "3     0.986537  0.873554  0.000000  ...  0.016899  0.323742  0.096341   \n",
      "4     0.888621  0.987485  0.799052  ...  0.016899  0.323742  0.096341   \n",
      "...        ...       ...       ...  ...       ...       ...       ...   \n",
      "1665  0.992334  0.903598  0.992848  ...  0.293223  0.815720  0.547602   \n",
      "1666  0.992334  0.903598  0.992848  ...  0.878446  0.361161  0.657227   \n",
      "1667  0.932602  0.996440  0.861148  ...  0.999252  0.681831  0.905144   \n",
      "1668  0.995247  0.964707  0.968654  ...  0.999252  0.681831  0.905144   \n",
      "1669  0.995247  0.964707  0.968654  ...  0.129589  0.636150  0.342989   \n",
      "\n",
      "           655       656       657       658       659       660       661  \n",
      "0     0.630828  0.025670  0.319648  0.105309  0.944750  0.017539  0.009843  \n",
      "1     0.630828  0.025670  0.319648  0.105309  0.944750  0.017539  0.009843  \n",
      "2     0.630828  0.025670  0.319648  0.105309  0.944750  0.017539  0.009843  \n",
      "3     0.630828  0.025670  0.319648  0.105309  0.944750  0.017539  0.009843  \n",
      "4     0.630828  0.025670  0.319648  0.105309  0.944750  0.017539  0.009843  \n",
      "...        ...       ...       ...       ...       ...       ...       ...  \n",
      "1665  0.990859  0.328092  0.004422  0.082679  0.865627  0.348156  0.318990  \n",
      "1666  0.098256  0.852877  0.935348  0.970010  0.034550  0.838056  0.855241  \n",
      "1667  0.380585  0.991073  0.673679  0.880756  0.040188  0.993083  0.983597  \n",
      "1668  0.380585  0.991073  0.673679  0.880756  0.040188  0.993083  0.983597  \n",
      "1669  0.910933  0.154333  0.058466  0.007521  0.956120  0.171003  0.145920  \n",
      "\n",
      "[1670 rows x 847 columns]\n",
      "0       1\n",
      "1       1\n",
      "2       1\n",
      "3       1\n",
      "4       1\n",
      "       ..\n",
      "1665    0\n",
      "1666    0\n",
      "1667    0\n",
      "1668    0\n",
      "1669    0\n",
      "Name: label, Length: 1670, dtype: int64\n",
      "# Drug = 184 | Mutation = 639\n",
      "# Test: Drug = 36 | Mutation = 127\n",
      "[WinError 183] 当文件已存在时，无法创建该文件。: 'E:/graph data/type1平衡数据/type1平衡数据数据预处理模型/task_Tp__testlabel0_7knn_edge_fold0/' E:/graph data/type1平衡数据/type1平衡数据数据预处理模型/task_Tp__testlabel0_7knn_edge_fold0/\n"
     ]
    },
    {
     "name": "stderr",
     "output_type": "stream",
     "text": [
      "100%|██████████| 11690/11690 [00:00<00:00, 902191.73it/s]\n"
     ]
    },
    {
     "name": "stdout",
     "output_type": "stream",
     "text": [
      "[WinError 183] 当文件已存在时，无法创建该文件。: 'E:/graph data/type1平衡数据/type1平衡数据数据预处理模型/task_Tp__testlabel0_7knn_edge_fold1/' E:/graph data/type1平衡数据/type1平衡数据数据预处理模型/task_Tp__testlabel0_7knn_edge_fold1/\n"
     ]
    },
    {
     "name": "stderr",
     "output_type": "stream",
     "text": [
      "100%|██████████| 11690/11690 [00:00<00:00, 1064881.72it/s]\n"
     ]
    },
    {
     "name": "stdout",
     "output_type": "stream",
     "text": [
      "[WinError 183] 当文件已存在时，无法创建该文件。: 'E:/graph data/type1平衡数据/type1平衡数据数据预处理模型/task_Tp__testlabel0_7knn_edge_fold2/' E:/graph data/type1平衡数据/type1平衡数据数据预处理模型/task_Tp__testlabel0_7knn_edge_fold2/\n"
     ]
    },
    {
     "name": "stderr",
     "output_type": "stream",
     "text": [
      "100%|██████████| 11690/11690 [00:00<00:00, 976818.68it/s]\n"
     ]
    },
    {
     "name": "stdout",
     "output_type": "stream",
     "text": [
      "[WinError 183] 当文件已存在时，无法创建该文件。: 'E:/graph data/type1平衡数据/type1平衡数据数据预处理模型/task_Tp__testlabel0_7knn_edge_fold3/' E:/graph data/type1平衡数据/type1平衡数据数据预处理模型/task_Tp__testlabel0_7knn_edge_fold3/\n"
     ]
    },
    {
     "name": "stderr",
     "output_type": "stream",
     "text": [
      "100%|██████████| 11690/11690 [00:00<00:00, 1067943.32it/s]\n"
     ]
    },
    {
     "name": "stdout",
     "output_type": "stream",
     "text": [
      "[WinError 183] 当文件已存在时，无法创建该文件。: 'E:/graph data/type1平衡数据/type1平衡数据数据预处理模型/task_Tp__testlabel0_7knn_edge_fold4/' E:/graph data/type1平衡数据/type1平衡数据数据预处理模型/task_Tp__testlabel0_7knn_edge_fold4/\n"
     ]
    },
    {
     "name": "stderr",
     "output_type": "stream",
     "text": [
      "100%|██████████| 11690/11690 [00:00<00:00, 1064927.97it/s]\n"
     ]
    },
    {
     "name": "stdout",
     "output_type": "stream",
     "text": [
      "--Complete-- 5\n",
      "num_node 1670\n",
      "node_feat            0_x       1_x       2_x       3_x       4_x       5_x       6_x  \\\n",
      "0     0.000000  0.227305  0.195368  0.222083  0.218782  0.199313  0.206095   \n",
      "1     0.891151  0.959950  0.975833  0.987653  0.993496  0.967372  0.000000   \n",
      "2     0.920408  0.950667  0.991906  0.995222  0.992450  0.991524  0.987794   \n",
      "3     0.871441  0.889783  0.993341  0.968516  0.956858  0.998308  0.951931   \n",
      "4     0.894709  0.969457  0.841373  0.915243  0.938411  0.825470  0.938192   \n",
      "...        ...       ...       ...       ...       ...       ...       ...   \n",
      "1665  0.859920  0.909371  0.997017  0.973323  0.969097  0.997544  0.972053   \n",
      "1666  0.859920  0.909371  0.997017  0.973323  0.969097  0.997544  0.972053   \n",
      "1667  0.929509  0.993179  0.886432  0.955361  0.972236  0.877694  0.959136   \n",
      "1668  0.960399  0.973907  0.974810  0.000000  0.999249  0.973968  0.987774   \n",
      "1669  0.960399  0.973907  0.974810  0.000000  0.999249  0.973968  0.987774   \n",
      "\n",
      "           7_x       8_x       9_x  ...       652       653       654  \\\n",
      "0     0.212841  0.217671  0.201541  ...  0.016899  0.323742  0.096341   \n",
      "1     0.987698  0.970435  0.951951  ...  0.016899  0.323742  0.096341   \n",
      "2     0.000000  0.943036  0.986653  ...  0.016899  0.323742  0.096341   \n",
      "3     0.986537  0.873554  0.000000  ...  0.016899  0.323742  0.096341   \n",
      "4     0.888621  0.987485  0.799052  ...  0.016899  0.323742  0.096341   \n",
      "...        ...       ...       ...  ...       ...       ...       ...   \n",
      "1665  0.992334  0.903598  0.992848  ...  0.293223  0.815720  0.547602   \n",
      "1666  0.992334  0.903598  0.992848  ...  0.878446  0.361161  0.657227   \n",
      "1667  0.932602  0.996440  0.861148  ...  0.999252  0.681831  0.905144   \n",
      "1668  0.995247  0.964707  0.968654  ...  0.999252  0.681831  0.905144   \n",
      "1669  0.995247  0.964707  0.968654  ...  0.129589  0.636150  0.342989   \n",
      "\n",
      "           655       656       657       658       659       660       661  \n",
      "0     0.630828  0.025670  0.319648  0.105309  0.944750  0.017539  0.009843  \n",
      "1     0.630828  0.025670  0.319648  0.105309  0.944750  0.017539  0.009843  \n",
      "2     0.630828  0.025670  0.319648  0.105309  0.944750  0.017539  0.009843  \n",
      "3     0.630828  0.025670  0.319648  0.105309  0.944750  0.017539  0.009843  \n",
      "4     0.630828  0.025670  0.319648  0.105309  0.944750  0.017539  0.009843  \n",
      "...        ...       ...       ...       ...       ...       ...       ...  \n",
      "1665  0.990859  0.328092  0.004422  0.082679  0.865627  0.348156  0.318990  \n",
      "1666  0.098256  0.852877  0.935348  0.970010  0.034550  0.838056  0.855241  \n",
      "1667  0.380585  0.991073  0.673679  0.880756  0.040188  0.993083  0.983597  \n",
      "1668  0.380585  0.991073  0.673679  0.880756  0.040188  0.993083  0.983597  \n",
      "1669  0.910933  0.154333  0.058466  0.007521  0.956120  0.171003  0.145920  \n",
      "\n",
      "[1670 rows x 847 columns]\n",
      "0       1\n",
      "1       1\n",
      "2       1\n",
      "3       1\n",
      "4       1\n",
      "       ..\n",
      "1665    0\n",
      "1666    0\n",
      "1667    0\n",
      "1668    0\n",
      "1669    0\n",
      "Name: label, Length: 1670, dtype: int64\n",
      "# Drug = 184 | Mutation = 639\n",
      "# Test: Drug = 36 | Mutation = 127\n",
      "[WinError 183] 当文件已存在时，无法创建该文件。: 'E:/graph data/type1平衡数据/type1平衡数据数据预处理模型/task_Tp__testlabel0_10knn_edge_fold0/' E:/graph data/type1平衡数据/type1平衡数据数据预处理模型/task_Tp__testlabel0_10knn_edge_fold0/\n"
     ]
    },
    {
     "name": "stderr",
     "output_type": "stream",
     "text": [
      "100%|██████████| 16700/16700 [00:00<00:00, 984357.02it/s]\n"
     ]
    },
    {
     "name": "stdout",
     "output_type": "stream",
     "text": [
      "[WinError 183] 当文件已存在时，无法创建该文件。: 'E:/graph data/type1平衡数据/type1平衡数据数据预处理模型/task_Tp__testlabel0_10knn_edge_fold1/' E:/graph data/type1平衡数据/type1平衡数据数据预处理模型/task_Tp__testlabel0_10knn_edge_fold1/\n"
     ]
    },
    {
     "name": "stderr",
     "output_type": "stream",
     "text": [
      "100%|██████████| 16700/16700 [00:00<00:00, 985035.32it/s]\n"
     ]
    },
    {
     "name": "stdout",
     "output_type": "stream",
     "text": [
      "[WinError 183] 当文件已存在时，无法创建该文件。: 'E:/graph data/type1平衡数据/type1平衡数据数据预处理模型/task_Tp__testlabel0_10knn_edge_fold2/' E:/graph data/type1平衡数据/type1平衡数据数据预处理模型/task_Tp__testlabel0_10knn_edge_fold2/\n"
     ]
    },
    {
     "name": "stderr",
     "output_type": "stream",
     "text": [
      "100%|██████████| 16700/16700 [00:00<00:00, 1046570.60it/s]\n"
     ]
    },
    {
     "name": "stdout",
     "output_type": "stream",
     "text": [
      "[WinError 183] 当文件已存在时，无法创建该文件。: 'E:/graph data/type1平衡数据/type1平衡数据数据预处理模型/task_Tp__testlabel0_10knn_edge_fold3/' E:/graph data/type1平衡数据/type1平衡数据数据预处理模型/task_Tp__testlabel0_10knn_edge_fold3/\n"
     ]
    },
    {
     "name": "stderr",
     "output_type": "stream",
     "text": [
      "100%|██████████| 16700/16700 [00:00<00:00, 929507.24it/s]\n"
     ]
    },
    {
     "name": "stdout",
     "output_type": "stream",
     "text": [
      "[WinError 183] 当文件已存在时，无法创建该文件。: 'E:/graph data/type1平衡数据/type1平衡数据数据预处理模型/task_Tp__testlabel0_10knn_edge_fold4/' E:/graph data/type1平衡数据/type1平衡数据数据预处理模型/task_Tp__testlabel0_10knn_edge_fold4/\n"
     ]
    },
    {
     "name": "stderr",
     "output_type": "stream",
     "text": [
      "100%|██████████| 16700/16700 [00:00<00:00, 986839.44it/s]\n"
     ]
    },
    {
     "name": "stdout",
     "output_type": "stream",
     "text": [
      "--Complete-- 5\n",
      "num_node 1670\n",
      "node_feat            0_x       1_x       2_x       3_x       4_x       5_x       6_x  \\\n",
      "0     0.000000  0.227305  0.195368  0.222083  0.218782  0.199313  0.206095   \n",
      "1     0.891151  0.959950  0.975833  0.987653  0.993496  0.967372  0.000000   \n",
      "2     0.920408  0.950667  0.991906  0.995222  0.992450  0.991524  0.987794   \n",
      "3     0.871441  0.889783  0.993341  0.968516  0.956858  0.998308  0.951931   \n",
      "4     0.894709  0.969457  0.841373  0.915243  0.938411  0.825470  0.938192   \n",
      "...        ...       ...       ...       ...       ...       ...       ...   \n",
      "1665  0.859920  0.909371  0.997017  0.973323  0.969097  0.997544  0.972053   \n",
      "1666  0.859920  0.909371  0.997017  0.973323  0.969097  0.997544  0.972053   \n",
      "1667  0.929509  0.993179  0.886432  0.955361  0.972236  0.877694  0.959136   \n",
      "1668  0.960399  0.973907  0.974810  0.000000  0.999249  0.973968  0.987774   \n",
      "1669  0.960399  0.973907  0.974810  0.000000  0.999249  0.973968  0.987774   \n",
      "\n",
      "           7_x       8_x       9_x  ...       652       653       654  \\\n",
      "0     0.212841  0.217671  0.201541  ...  0.016899  0.323742  0.096341   \n",
      "1     0.987698  0.970435  0.951951  ...  0.016899  0.323742  0.096341   \n",
      "2     0.000000  0.943036  0.986653  ...  0.016899  0.323742  0.096341   \n",
      "3     0.986537  0.873554  0.000000  ...  0.016899  0.323742  0.096341   \n",
      "4     0.888621  0.987485  0.799052  ...  0.016899  0.323742  0.096341   \n",
      "...        ...       ...       ...  ...       ...       ...       ...   \n",
      "1665  0.992334  0.903598  0.992848  ...  0.293223  0.815720  0.547602   \n",
      "1666  0.992334  0.903598  0.992848  ...  0.878446  0.361161  0.657227   \n",
      "1667  0.932602  0.996440  0.861148  ...  0.999252  0.681831  0.905144   \n",
      "1668  0.995247  0.964707  0.968654  ...  0.999252  0.681831  0.905144   \n",
      "1669  0.995247  0.964707  0.968654  ...  0.129589  0.636150  0.342989   \n",
      "\n",
      "           655       656       657       658       659       660       661  \n",
      "0     0.630828  0.025670  0.319648  0.105309  0.944750  0.017539  0.009843  \n",
      "1     0.630828  0.025670  0.319648  0.105309  0.944750  0.017539  0.009843  \n",
      "2     0.630828  0.025670  0.319648  0.105309  0.944750  0.017539  0.009843  \n",
      "3     0.630828  0.025670  0.319648  0.105309  0.944750  0.017539  0.009843  \n",
      "4     0.630828  0.025670  0.319648  0.105309  0.944750  0.017539  0.009843  \n",
      "...        ...       ...       ...       ...       ...       ...       ...  \n",
      "1665  0.990859  0.328092  0.004422  0.082679  0.865627  0.348156  0.318990  \n",
      "1666  0.098256  0.852877  0.935348  0.970010  0.034550  0.838056  0.855241  \n",
      "1667  0.380585  0.991073  0.673679  0.880756  0.040188  0.993083  0.983597  \n",
      "1668  0.380585  0.991073  0.673679  0.880756  0.040188  0.993083  0.983597  \n",
      "1669  0.910933  0.154333  0.058466  0.007521  0.956120  0.171003  0.145920  \n",
      "\n",
      "[1670 rows x 847 columns]\n",
      "0       1\n",
      "1       1\n",
      "2       1\n",
      "3       1\n",
      "4       1\n",
      "       ..\n",
      "1665    0\n",
      "1666    0\n",
      "1667    0\n",
      "1668    0\n",
      "1669    0\n",
      "Name: label, Length: 1670, dtype: int64\n",
      "# Drug = 184 | Mutation = 639\n",
      "# Test: Drug = 36 | Mutation = 127\n",
      "[WinError 183] 当文件已存在时，无法创建该文件。: 'E:/graph data/type1平衡数据/type1平衡数据数据预处理模型/task_Tp__testlabel0_15knn_edge_fold0/' E:/graph data/type1平衡数据/type1平衡数据数据预处理模型/task_Tp__testlabel0_15knn_edge_fold0/\n"
     ]
    },
    {
     "name": "stderr",
     "output_type": "stream",
     "text": [
      "100%|██████████| 25050/25050 [00:00<00:00, 1046226.69it/s]\n"
     ]
    },
    {
     "name": "stdout",
     "output_type": "stream",
     "text": [
      "[WinError 183] 当文件已存在时，无法创建该文件。: 'E:/graph data/type1平衡数据/type1平衡数据数据预处理模型/task_Tp__testlabel0_15knn_edge_fold1/' E:/graph data/type1平衡数据/type1平衡数据数据预处理模型/task_Tp__testlabel0_15knn_edge_fold1/\n"
     ]
    },
    {
     "name": "stderr",
     "output_type": "stream",
     "text": [
      "100%|██████████| 25050/25050 [00:00<00:00, 1044874.10it/s]\n"
     ]
    },
    {
     "name": "stdout",
     "output_type": "stream",
     "text": [
      "[WinError 183] 当文件已存在时，无法创建该文件。: 'E:/graph data/type1平衡数据/type1平衡数据数据预处理模型/task_Tp__testlabel0_15knn_edge_fold2/' E:/graph data/type1平衡数据/type1平衡数据数据预处理模型/task_Tp__testlabel0_15knn_edge_fold2/\n"
     ]
    },
    {
     "name": "stderr",
     "output_type": "stream",
     "text": [
      "100%|██████████| 25050/25050 [00:00<00:00, 1046362.14it/s]\n"
     ]
    },
    {
     "name": "stdout",
     "output_type": "stream",
     "text": [
      "[WinError 183] 当文件已存在时，无法创建该文件。: 'E:/graph data/type1平衡数据/type1平衡数据数据预处理模型/task_Tp__testlabel0_15knn_edge_fold3/' E:/graph data/type1平衡数据/type1平衡数据数据预处理模型/task_Tp__testlabel0_15knn_edge_fold3/\n"
     ]
    },
    {
     "name": "stderr",
     "output_type": "stream",
     "text": [
      "100%|██████████| 25050/25050 [00:00<00:00, 1003230.39it/s]\n"
     ]
    },
    {
     "name": "stdout",
     "output_type": "stream",
     "text": [
      "[WinError 183] 当文件已存在时，无法创建该文件。: 'E:/graph data/type1平衡数据/type1平衡数据数据预处理模型/task_Tp__testlabel0_15knn_edge_fold4/' E:/graph data/type1平衡数据/type1平衡数据数据预处理模型/task_Tp__testlabel0_15knn_edge_fold4/\n"
     ]
    },
    {
     "name": "stderr",
     "output_type": "stream",
     "text": [
      "100%|██████████| 25050/25050 [00:00<00:00, 1047812.62it/s]"
     ]
    },
    {
     "name": "stdout",
     "output_type": "stream",
     "text": [
      "--Complete-- 5\n"
     ]
    },
    {
     "name": "stderr",
     "output_type": "stream",
     "text": [
      "\n"
     ]
    }
   ],
   "source": [
    "for task in ['Tp']:\n",
    "    node_feature_label, num_node, node_feat, label, mirna_ids, disease_ids, train_index_all, test_index_all, \\\n",
    "    feats, role, class_map, adj_full, adj_train, adj_val, edge_src_dst = run(task = task, isbalance =True)"
   ]
  },
  {
   "cell_type": "code",
   "execution_count": 16,
   "metadata": {
    "scrolled": true
   },
   "outputs": [
    {
     "name": "stderr",
     "output_type": "stream",
     "text": [
      "100%|██████████████████████████████████████████████████████████████████████████| 5010/5010 [00:00<00:00, 717623.90it/s]\n",
      "100%|██████████████████████████████████████████████████████████████████████████| 5010/5010 [00:00<00:00, 717599.39it/s]\n",
      "100%|██████████████████████████████████████████████████████████████████████████| 5010/5010 [00:00<00:00, 628073.74it/s]\n",
      "  0%|                                                                                         | 0/5010 [00:00<?, ?it/s]"
     ]
    },
    {
     "name": "stdout",
     "output_type": "stream",
     "text": [
      "num_node 1670\n",
      "node_feat            0_x       1_x       2_x       3_x       4_x       5_x       6_x  \\\n",
      "0     0.000000  0.227305  0.195368  0.222083  0.218782  0.199313  0.206095   \n",
      "1     0.891151  0.959950  0.975833  0.987653  0.993496  0.967372  0.000000   \n",
      "2     0.920408  0.950667  0.991906  0.995222  0.992450  0.991524  0.987794   \n",
      "3     0.871441  0.889783  0.993341  0.968516  0.956858  0.998308  0.951931   \n",
      "4     0.894709  0.969457  0.841373  0.915243  0.938411  0.825470  0.938192   \n",
      "...        ...       ...       ...       ...       ...       ...       ...   \n",
      "1665  0.859920  0.909371  0.997017  0.973323  0.969097  0.997544  0.972053   \n",
      "1666  0.859920  0.909371  0.997017  0.973323  0.969097  0.997544  0.972053   \n",
      "1667  0.929509  0.993179  0.886432  0.955361  0.972236  0.877694  0.959136   \n",
      "1668  0.960399  0.973907  0.974810  0.000000  0.999249  0.973968  0.987774   \n",
      "1669  0.960399  0.973907  0.974810  0.000000  0.999249  0.973968  0.987774   \n",
      "\n",
      "           7_x       8_x       9_x  ...       652       653       654  \\\n",
      "0     0.212841  0.217671  0.201541  ...  0.016899  0.323742  0.096341   \n",
      "1     0.987698  0.970435  0.951951  ...  0.016899  0.323742  0.096341   \n",
      "2     0.000000  0.943036  0.986653  ...  0.016899  0.323742  0.096341   \n",
      "3     0.986537  0.873554  0.000000  ...  0.016899  0.323742  0.096341   \n",
      "4     0.888621  0.987485  0.799052  ...  0.016899  0.323742  0.096341   \n",
      "...        ...       ...       ...  ...       ...       ...       ...   \n",
      "1665  0.992334  0.903598  0.992848  ...  0.293223  0.815720  0.547602   \n",
      "1666  0.992334  0.903598  0.992848  ...  0.878446  0.361161  0.657227   \n",
      "1667  0.932602  0.996440  0.861148  ...  0.999252  0.681831  0.905144   \n",
      "1668  0.995247  0.964707  0.968654  ...  0.999252  0.681831  0.905144   \n",
      "1669  0.995247  0.964707  0.968654  ...  0.129589  0.636150  0.342989   \n",
      "\n",
      "           655       656       657       658       659       660       661  \n",
      "0     0.630828  0.025670  0.319648  0.105309  0.944750  0.017539  0.009843  \n",
      "1     0.630828  0.025670  0.319648  0.105309  0.944750  0.017539  0.009843  \n",
      "2     0.630828  0.025670  0.319648  0.105309  0.944750  0.017539  0.009843  \n",
      "3     0.630828  0.025670  0.319648  0.105309  0.944750  0.017539  0.009843  \n",
      "4     0.630828  0.025670  0.319648  0.105309  0.944750  0.017539  0.009843  \n",
      "...        ...       ...       ...       ...       ...       ...       ...  \n",
      "1665  0.990859  0.328092  0.004422  0.082679  0.865627  0.348156  0.318990  \n",
      "1666  0.098256  0.852877  0.935348  0.970010  0.034550  0.838056  0.855241  \n",
      "1667  0.380585  0.991073  0.673679  0.880756  0.040188  0.993083  0.983597  \n",
      "1668  0.380585  0.991073  0.673679  0.880756  0.040188  0.993083  0.983597  \n",
      "1669  0.910933  0.154333  0.058466  0.007521  0.956120  0.171003  0.145920  \n",
      "\n",
      "[1670 rows x 847 columns]\n",
      "0       1\n",
      "1       1\n",
      "2       1\n",
      "3       1\n",
      "4       1\n",
      "       ..\n",
      "1665    0\n",
      "1666    0\n",
      "1667    0\n",
      "1668    0\n",
      "1669    0\n",
      "Name: label, Length: 1670, dtype: int64\n",
      "# Drug = 184 | Mutation = 639\n",
      "# Test: Drug = 36 | Mutation = 127\n"
     ]
    },
    {
     "name": "stderr",
     "output_type": "stream",
     "text": [
      "100%|██████████████████████████████████████████████████████████████████████████| 5010/5010 [00:00<00:00, 717697.43it/s]\n",
      "100%|██████████████████████████████████████████████████████████████████████████| 5010/5010 [00:00<00:00, 717550.39it/s]\n"
     ]
    },
    {
     "name": "stdout",
     "output_type": "stream",
     "text": [
      "--Complete-- 5\n"
     ]
    },
    {
     "name": "stderr",
     "output_type": "stream",
     "text": [
      "100%|██████████████████████████████████████████████████████████████████████████| 8350/8350 [00:00<00:00, 761125.71it/s]\n",
      "100%|██████████████████████████████████████████████████████████████████████████| 8350/8350 [00:00<00:00, 697783.24it/s]\n",
      "100%|██████████████████████████████████████████████████████████████████████████| 8350/8350 [00:00<00:00, 761191.88it/s]\n",
      "  0%|                                                                                         | 0/8350 [00:00<?, ?it/s]"
     ]
    },
    {
     "name": "stdout",
     "output_type": "stream",
     "text": [
      "num_node 1670\n",
      "node_feat            0_x       1_x       2_x       3_x       4_x       5_x       6_x  \\\n",
      "0     0.000000  0.227305  0.195368  0.222083  0.218782  0.199313  0.206095   \n",
      "1     0.891151  0.959950  0.975833  0.987653  0.993496  0.967372  0.000000   \n",
      "2     0.920408  0.950667  0.991906  0.995222  0.992450  0.991524  0.987794   \n",
      "3     0.871441  0.889783  0.993341  0.968516  0.956858  0.998308  0.951931   \n",
      "4     0.894709  0.969457  0.841373  0.915243  0.938411  0.825470  0.938192   \n",
      "...        ...       ...       ...       ...       ...       ...       ...   \n",
      "1665  0.859920  0.909371  0.997017  0.973323  0.969097  0.997544  0.972053   \n",
      "1666  0.859920  0.909371  0.997017  0.973323  0.969097  0.997544  0.972053   \n",
      "1667  0.929509  0.993179  0.886432  0.955361  0.972236  0.877694  0.959136   \n",
      "1668  0.960399  0.973907  0.974810  0.000000  0.999249  0.973968  0.987774   \n",
      "1669  0.960399  0.973907  0.974810  0.000000  0.999249  0.973968  0.987774   \n",
      "\n",
      "           7_x       8_x       9_x  ...       652       653       654  \\\n",
      "0     0.212841  0.217671  0.201541  ...  0.016899  0.323742  0.096341   \n",
      "1     0.987698  0.970435  0.951951  ...  0.016899  0.323742  0.096341   \n",
      "2     0.000000  0.943036  0.986653  ...  0.016899  0.323742  0.096341   \n",
      "3     0.986537  0.873554  0.000000  ...  0.016899  0.323742  0.096341   \n",
      "4     0.888621  0.987485  0.799052  ...  0.016899  0.323742  0.096341   \n",
      "...        ...       ...       ...  ...       ...       ...       ...   \n",
      "1665  0.992334  0.903598  0.992848  ...  0.293223  0.815720  0.547602   \n",
      "1666  0.992334  0.903598  0.992848  ...  0.878446  0.361161  0.657227   \n",
      "1667  0.932602  0.996440  0.861148  ...  0.999252  0.681831  0.905144   \n",
      "1668  0.995247  0.964707  0.968654  ...  0.999252  0.681831  0.905144   \n",
      "1669  0.995247  0.964707  0.968654  ...  0.129589  0.636150  0.342989   \n",
      "\n",
      "           655       656       657       658       659       660       661  \n",
      "0     0.630828  0.025670  0.319648  0.105309  0.944750  0.017539  0.009843  \n",
      "1     0.630828  0.025670  0.319648  0.105309  0.944750  0.017539  0.009843  \n",
      "2     0.630828  0.025670  0.319648  0.105309  0.944750  0.017539  0.009843  \n",
      "3     0.630828  0.025670  0.319648  0.105309  0.944750  0.017539  0.009843  \n",
      "4     0.630828  0.025670  0.319648  0.105309  0.944750  0.017539  0.009843  \n",
      "...        ...       ...       ...       ...       ...       ...       ...  \n",
      "1665  0.990859  0.328092  0.004422  0.082679  0.865627  0.348156  0.318990  \n",
      "1666  0.098256  0.852877  0.935348  0.970010  0.034550  0.838056  0.855241  \n",
      "1667  0.380585  0.991073  0.673679  0.880756  0.040188  0.993083  0.983597  \n",
      "1668  0.380585  0.991073  0.673679  0.880756  0.040188  0.993083  0.983597  \n",
      "1669  0.910933  0.154333  0.058466  0.007521  0.956120  0.171003  0.145920  \n",
      "\n",
      "[1670 rows x 847 columns]\n",
      "0       1\n",
      "1       1\n",
      "2       1\n",
      "3       1\n",
      "4       1\n",
      "       ..\n",
      "1665    0\n",
      "1666    0\n",
      "1667    0\n",
      "1668    0\n",
      "1669    0\n",
      "Name: label, Length: 1670, dtype: int64\n",
      "# Drug = 184 | Mutation = 639\n",
      "# Test: Drug = 36 | Mutation = 127\n"
     ]
    },
    {
     "name": "stderr",
     "output_type": "stream",
     "text": [
      "100%|██████████████████████████████████████████████████████████████████████████| 8350/8350 [00:00<00:00, 760877.67it/s]\n",
      "100%|██████████████████████████████████████████████████████████████████████████| 8350/8350 [00:00<00:00, 761092.63it/s]\n"
     ]
    },
    {
     "name": "stdout",
     "output_type": "stream",
     "text": [
      "--Complete-- 5\n"
     ]
    },
    {
     "name": "stderr",
     "output_type": "stream",
     "text": [
      "100%|████████████████████████████████████████████████████████████████████████| 11690/11690 [00:00<00:00, 781489.20it/s]\n",
      "100%|████████████████████████████████████████████████████████████████████████| 11690/11690 [00:00<00:00, 901627.66it/s]\n",
      "100%|████████████████████████████████████████████████████████████████████████| 11690/11690 [00:00<00:00, 837213.59it/s]"
     ]
    },
    {
     "name": "stdout",
     "output_type": "stream",
     "text": [
      "num_node 1670\n",
      "node_feat            0_x       1_x       2_x       3_x       4_x       5_x       6_x  \\\n",
      "0     0.000000  0.227305  0.195368  0.222083  0.218782  0.199313  0.206095   \n",
      "1     0.891151  0.959950  0.975833  0.987653  0.993496  0.967372  0.000000   \n",
      "2     0.920408  0.950667  0.991906  0.995222  0.992450  0.991524  0.987794   \n",
      "3     0.871441  0.889783  0.993341  0.968516  0.956858  0.998308  0.951931   \n",
      "4     0.894709  0.969457  0.841373  0.915243  0.938411  0.825470  0.938192   \n",
      "...        ...       ...       ...       ...       ...       ...       ...   \n",
      "1665  0.859920  0.909371  0.997017  0.973323  0.969097  0.997544  0.972053   \n",
      "1666  0.859920  0.909371  0.997017  0.973323  0.969097  0.997544  0.972053   \n",
      "1667  0.929509  0.993179  0.886432  0.955361  0.972236  0.877694  0.959136   \n",
      "1668  0.960399  0.973907  0.974810  0.000000  0.999249  0.973968  0.987774   \n",
      "1669  0.960399  0.973907  0.974810  0.000000  0.999249  0.973968  0.987774   \n",
      "\n",
      "           7_x       8_x       9_x  ...       652       653       654  \\\n",
      "0     0.212841  0.217671  0.201541  ...  0.016899  0.323742  0.096341   \n",
      "1     0.987698  0.970435  0.951951  ...  0.016899  0.323742  0.096341   \n",
      "2     0.000000  0.943036  0.986653  ...  0.016899  0.323742  0.096341   \n",
      "3     0.986537  0.873554  0.000000  ...  0.016899  0.323742  0.096341   \n",
      "4     0.888621  0.987485  0.799052  ...  0.016899  0.323742  0.096341   \n",
      "...        ...       ...       ...  ...       ...       ...       ...   \n",
      "1665  0.992334  0.903598  0.992848  ...  0.293223  0.815720  0.547602   \n",
      "1666  0.992334  0.903598  0.992848  ...  0.878446  0.361161  0.657227   \n",
      "1667  0.932602  0.996440  0.861148  ...  0.999252  0.681831  0.905144   \n",
      "1668  0.995247  0.964707  0.968654  ...  0.999252  0.681831  0.905144   \n",
      "1669  0.995247  0.964707  0.968654  ...  0.129589  0.636150  0.342989   \n",
      "\n",
      "           655       656       657       658       659       660       661  \n",
      "0     0.630828  0.025670  0.319648  0.105309  0.944750  0.017539  0.009843  \n",
      "1     0.630828  0.025670  0.319648  0.105309  0.944750  0.017539  0.009843  \n",
      "2     0.630828  0.025670  0.319648  0.105309  0.944750  0.017539  0.009843  \n",
      "3     0.630828  0.025670  0.319648  0.105309  0.944750  0.017539  0.009843  \n",
      "4     0.630828  0.025670  0.319648  0.105309  0.944750  0.017539  0.009843  \n",
      "...        ...       ...       ...       ...       ...       ...       ...  \n",
      "1665  0.990859  0.328092  0.004422  0.082679  0.865627  0.348156  0.318990  \n",
      "1666  0.098256  0.852877  0.935348  0.970010  0.034550  0.838056  0.855241  \n",
      "1667  0.380585  0.991073  0.673679  0.880756  0.040188  0.993083  0.983597  \n",
      "1668  0.380585  0.991073  0.673679  0.880756  0.040188  0.993083  0.983597  \n",
      "1669  0.910933  0.154333  0.058466  0.007521  0.956120  0.171003  0.145920  \n",
      "\n",
      "[1670 rows x 847 columns]\n",
      "0       1\n",
      "1       1\n",
      "2       1\n",
      "3       1\n",
      "4       1\n",
      "       ..\n",
      "1665    0\n",
      "1666    0\n",
      "1667    0\n",
      "1668    0\n",
      "1669    0\n",
      "Name: label, Length: 1670, dtype: int64\n",
      "# Drug = 184 | Mutation = 639\n",
      "# Test: Drug = 36 | Mutation = 127\n"
     ]
    },
    {
     "name": "stderr",
     "output_type": "stream",
     "text": [
      "\n",
      "100%|████████████████████████████████████████████████████████████████████████| 11690/11690 [00:00<00:00, 781439.38it/s]\n",
      "100%|████████████████████████████████████████████████████████████████████████| 11690/11690 [00:00<00:00, 781414.47it/s]\n"
     ]
    },
    {
     "name": "stdout",
     "output_type": "stream",
     "text": [
      "--Complete-- 5\n"
     ]
    },
    {
     "name": "stderr",
     "output_type": "stream",
     "text": [
      "100%|████████████████████████████████████████████████████████████████████████| 16700/16700 [00:00<00:00, 761150.52it/s]\n",
      "100%|████████████████████████████████████████████████████████████████████████| 16700/16700 [00:00<00:00, 797368.97it/s]\n",
      "100%|████████████████████████████████████████████████████████████████████████| 16700/16700 [00:00<00:00, 837206.44it/s]"
     ]
    },
    {
     "name": "stdout",
     "output_type": "stream",
     "text": [
      "num_node 1670\n",
      "node_feat            0_x       1_x       2_x       3_x       4_x       5_x       6_x  \\\n",
      "0     0.000000  0.227305  0.195368  0.222083  0.218782  0.199313  0.206095   \n",
      "1     0.891151  0.959950  0.975833  0.987653  0.993496  0.967372  0.000000   \n",
      "2     0.920408  0.950667  0.991906  0.995222  0.992450  0.991524  0.987794   \n",
      "3     0.871441  0.889783  0.993341  0.968516  0.956858  0.998308  0.951931   \n",
      "4     0.894709  0.969457  0.841373  0.915243  0.938411  0.825470  0.938192   \n",
      "...        ...       ...       ...       ...       ...       ...       ...   \n",
      "1665  0.859920  0.909371  0.997017  0.973323  0.969097  0.997544  0.972053   \n",
      "1666  0.859920  0.909371  0.997017  0.973323  0.969097  0.997544  0.972053   \n",
      "1667  0.929509  0.993179  0.886432  0.955361  0.972236  0.877694  0.959136   \n",
      "1668  0.960399  0.973907  0.974810  0.000000  0.999249  0.973968  0.987774   \n",
      "1669  0.960399  0.973907  0.974810  0.000000  0.999249  0.973968  0.987774   \n",
      "\n",
      "           7_x       8_x       9_x  ...       652       653       654  \\\n",
      "0     0.212841  0.217671  0.201541  ...  0.016899  0.323742  0.096341   \n",
      "1     0.987698  0.970435  0.951951  ...  0.016899  0.323742  0.096341   \n",
      "2     0.000000  0.943036  0.986653  ...  0.016899  0.323742  0.096341   \n",
      "3     0.986537  0.873554  0.000000  ...  0.016899  0.323742  0.096341   \n",
      "4     0.888621  0.987485  0.799052  ...  0.016899  0.323742  0.096341   \n",
      "...        ...       ...       ...  ...       ...       ...       ...   \n",
      "1665  0.992334  0.903598  0.992848  ...  0.293223  0.815720  0.547602   \n",
      "1666  0.992334  0.903598  0.992848  ...  0.878446  0.361161  0.657227   \n",
      "1667  0.932602  0.996440  0.861148  ...  0.999252  0.681831  0.905144   \n",
      "1668  0.995247  0.964707  0.968654  ...  0.999252  0.681831  0.905144   \n",
      "1669  0.995247  0.964707  0.968654  ...  0.129589  0.636150  0.342989   \n",
      "\n",
      "           655       656       657       658       659       660       661  \n",
      "0     0.630828  0.025670  0.319648  0.105309  0.944750  0.017539  0.009843  \n",
      "1     0.630828  0.025670  0.319648  0.105309  0.944750  0.017539  0.009843  \n",
      "2     0.630828  0.025670  0.319648  0.105309  0.944750  0.017539  0.009843  \n",
      "3     0.630828  0.025670  0.319648  0.105309  0.944750  0.017539  0.009843  \n",
      "4     0.630828  0.025670  0.319648  0.105309  0.944750  0.017539  0.009843  \n",
      "...        ...       ...       ...       ...       ...       ...       ...  \n",
      "1665  0.990859  0.328092  0.004422  0.082679  0.865627  0.348156  0.318990  \n",
      "1666  0.098256  0.852877  0.935348  0.970010  0.034550  0.838056  0.855241  \n",
      "1667  0.380585  0.991073  0.673679  0.880756  0.040188  0.993083  0.983597  \n",
      "1668  0.380585  0.991073  0.673679  0.880756  0.040188  0.993083  0.983597  \n",
      "1669  0.910933  0.154333  0.058466  0.007521  0.956120  0.171003  0.145920  \n",
      "\n",
      "[1670 rows x 847 columns]\n",
      "0       1\n",
      "1       1\n",
      "2       1\n",
      "3       1\n",
      "4       1\n",
      "       ..\n",
      "1665    0\n",
      "1666    0\n",
      "1667    0\n",
      "1668    0\n",
      "1669    0\n",
      "Name: label, Length: 1670, dtype: int64\n",
      "# Drug = 184 | Mutation = 639\n",
      "# Test: Drug = 36 | Mutation = 127\n"
     ]
    },
    {
     "name": "stderr",
     "output_type": "stream",
     "text": [
      "\n",
      "100%|████████████████████████████████████████████████████████████████████████| 16700/16700 [00:00<00:00, 797368.97it/s]\n",
      "100%|████████████████████████████████████████████████████████████████████████| 16700/16700 [00:00<00:00, 837256.48it/s]\n"
     ]
    },
    {
     "name": "stdout",
     "output_type": "stream",
     "text": [
      "--Complete-- 5\n"
     ]
    },
    {
     "name": "stderr",
     "output_type": "stream",
     "text": [
      "100%|████████████████████████████████████████████████████████████████████████| 25050/25050 [00:00<00:00, 810229.46it/s]\n",
      "100%|████████████████████████████████████████████████████████████████████████| 25050/25050 [00:00<00:00, 837236.46it/s]\n",
      "  0%|                                                                                        | 0/25050 [00:00<?, ?it/s]"
     ]
    },
    {
     "name": "stdout",
     "output_type": "stream",
     "text": [
      "num_node 1670\n",
      "node_feat            0_x       1_x       2_x       3_x       4_x       5_x       6_x  \\\n",
      "0     0.000000  0.227305  0.195368  0.222083  0.218782  0.199313  0.206095   \n",
      "1     0.891151  0.959950  0.975833  0.987653  0.993496  0.967372  0.000000   \n",
      "2     0.920408  0.950667  0.991906  0.995222  0.992450  0.991524  0.987794   \n",
      "3     0.871441  0.889783  0.993341  0.968516  0.956858  0.998308  0.951931   \n",
      "4     0.894709  0.969457  0.841373  0.915243  0.938411  0.825470  0.938192   \n",
      "...        ...       ...       ...       ...       ...       ...       ...   \n",
      "1665  0.859920  0.909371  0.997017  0.973323  0.969097  0.997544  0.972053   \n",
      "1666  0.859920  0.909371  0.997017  0.973323  0.969097  0.997544  0.972053   \n",
      "1667  0.929509  0.993179  0.886432  0.955361  0.972236  0.877694  0.959136   \n",
      "1668  0.960399  0.973907  0.974810  0.000000  0.999249  0.973968  0.987774   \n",
      "1669  0.960399  0.973907  0.974810  0.000000  0.999249  0.973968  0.987774   \n",
      "\n",
      "           7_x       8_x       9_x  ...       652       653       654  \\\n",
      "0     0.212841  0.217671  0.201541  ...  0.016899  0.323742  0.096341   \n",
      "1     0.987698  0.970435  0.951951  ...  0.016899  0.323742  0.096341   \n",
      "2     0.000000  0.943036  0.986653  ...  0.016899  0.323742  0.096341   \n",
      "3     0.986537  0.873554  0.000000  ...  0.016899  0.323742  0.096341   \n",
      "4     0.888621  0.987485  0.799052  ...  0.016899  0.323742  0.096341   \n",
      "...        ...       ...       ...  ...       ...       ...       ...   \n",
      "1665  0.992334  0.903598  0.992848  ...  0.293223  0.815720  0.547602   \n",
      "1666  0.992334  0.903598  0.992848  ...  0.878446  0.361161  0.657227   \n",
      "1667  0.932602  0.996440  0.861148  ...  0.999252  0.681831  0.905144   \n",
      "1668  0.995247  0.964707  0.968654  ...  0.999252  0.681831  0.905144   \n",
      "1669  0.995247  0.964707  0.968654  ...  0.129589  0.636150  0.342989   \n",
      "\n",
      "           655       656       657       658       659       660       661  \n",
      "0     0.630828  0.025670  0.319648  0.105309  0.944750  0.017539  0.009843  \n",
      "1     0.630828  0.025670  0.319648  0.105309  0.944750  0.017539  0.009843  \n",
      "2     0.630828  0.025670  0.319648  0.105309  0.944750  0.017539  0.009843  \n",
      "3     0.630828  0.025670  0.319648  0.105309  0.944750  0.017539  0.009843  \n",
      "4     0.630828  0.025670  0.319648  0.105309  0.944750  0.017539  0.009843  \n",
      "...        ...       ...       ...       ...       ...       ...       ...  \n",
      "1665  0.990859  0.328092  0.004422  0.082679  0.865627  0.348156  0.318990  \n",
      "1666  0.098256  0.852877  0.935348  0.970010  0.034550  0.838056  0.855241  \n",
      "1667  0.380585  0.991073  0.673679  0.880756  0.040188  0.993083  0.983597  \n",
      "1668  0.380585  0.991073  0.673679  0.880756  0.040188  0.993083  0.983597  \n",
      "1669  0.910933  0.154333  0.058466  0.007521  0.956120  0.171003  0.145920  \n",
      "\n",
      "[1670 rows x 847 columns]\n",
      "0       1\n",
      "1       1\n",
      "2       1\n",
      "3       1\n",
      "4       1\n",
      "       ..\n",
      "1665    0\n",
      "1666    0\n",
      "1667    0\n",
      "1668    0\n",
      "1669    0\n",
      "Name: label, Length: 1670, dtype: int64\n",
      "# Drug = 184 | Mutation = 639\n",
      "# Test: Drug = 36 | Mutation = 127\n"
     ]
    },
    {
     "name": "stderr",
     "output_type": "stream",
     "text": [
      "100%|████████████████████████████████████████████████████████████████████████| 25050/25050 [00:00<00:00, 837269.82it/s]\n",
      "100%|████████████████████████████████████████████████████████████████████████| 25050/25050 [00:00<00:00, 784910.35it/s]\n",
      "100%|████████████████████████████████████████████████████████████████████████| 25050/25050 [00:00<00:00, 866091.69it/s]"
     ]
    },
    {
     "name": "stdout",
     "output_type": "stream",
     "text": [
      "--Complete-- 5\n"
     ]
    },
    {
     "name": "stderr",
     "output_type": "stream",
     "text": [
      "\n"
     ]
    }
   ],
   "source": [
    "for task in ['Td']:\n",
    "    node_feature_label, num_node, node_feat, label, mirna_ids, disease_ids, train_index_all, test_index_all, \\\n",
    "    feats, role, class_map, adj_full, adj_train, adj_val, edge_src_dst = run(task = task, isbalance = True)"
   ]
  },
  {
   "cell_type": "code",
   "execution_count": 17,
   "metadata": {},
   "outputs": [
    {
     "name": "stderr",
     "output_type": "stream",
     "text": [
      "100%|██████████████████████████████████████████████████████████████████████████| 5010/5010 [00:00<00:00, 717574.89it/s]\n",
      "100%|██████████████████████████████████████████████████████████████████████████| 5010/5010 [00:00<00:00, 717623.90it/s]\n",
      "100%|██████████████████████████████████████████████████████████████████████████| 5010/5010 [00:00<00:00, 717820.01it/s]\n",
      "100%|██████████████████████████████████████████████████████████████████████████| 5010/5010 [00:00<00:00, 837389.94it/s]"
     ]
    },
    {
     "name": "stdout",
     "output_type": "stream",
     "text": [
      "num_node 1670\n",
      "node_feat            0_x       1_x       2_x       3_x       4_x       5_x       6_x  \\\n",
      "0     0.000000  0.227305  0.195368  0.222083  0.218782  0.199313  0.206095   \n",
      "1     0.891151  0.959950  0.975833  0.987653  0.993496  0.967372  0.000000   \n",
      "2     0.920408  0.950667  0.991906  0.995222  0.992450  0.991524  0.987794   \n",
      "3     0.871441  0.889783  0.993341  0.968516  0.956858  0.998308  0.951931   \n",
      "4     0.894709  0.969457  0.841373  0.915243  0.938411  0.825470  0.938192   \n",
      "...        ...       ...       ...       ...       ...       ...       ...   \n",
      "1665  0.859920  0.909371  0.997017  0.973323  0.969097  0.997544  0.972053   \n",
      "1666  0.859920  0.909371  0.997017  0.973323  0.969097  0.997544  0.972053   \n",
      "1667  0.929509  0.993179  0.886432  0.955361  0.972236  0.877694  0.959136   \n",
      "1668  0.960399  0.973907  0.974810  0.000000  0.999249  0.973968  0.987774   \n",
      "1669  0.960399  0.973907  0.974810  0.000000  0.999249  0.973968  0.987774   \n",
      "\n",
      "           7_x       8_x       9_x  ...       652       653       654  \\\n",
      "0     0.212841  0.217671  0.201541  ...  0.016899  0.323742  0.096341   \n",
      "1     0.987698  0.970435  0.951951  ...  0.016899  0.323742  0.096341   \n",
      "2     0.000000  0.943036  0.986653  ...  0.016899  0.323742  0.096341   \n",
      "3     0.986537  0.873554  0.000000  ...  0.016899  0.323742  0.096341   \n",
      "4     0.888621  0.987485  0.799052  ...  0.016899  0.323742  0.096341   \n",
      "...        ...       ...       ...  ...       ...       ...       ...   \n",
      "1665  0.992334  0.903598  0.992848  ...  0.293223  0.815720  0.547602   \n",
      "1666  0.992334  0.903598  0.992848  ...  0.878446  0.361161  0.657227   \n",
      "1667  0.932602  0.996440  0.861148  ...  0.999252  0.681831  0.905144   \n",
      "1668  0.995247  0.964707  0.968654  ...  0.999252  0.681831  0.905144   \n",
      "1669  0.995247  0.964707  0.968654  ...  0.129589  0.636150  0.342989   \n",
      "\n",
      "           655       656       657       658       659       660       661  \n",
      "0     0.630828  0.025670  0.319648  0.105309  0.944750  0.017539  0.009843  \n",
      "1     0.630828  0.025670  0.319648  0.105309  0.944750  0.017539  0.009843  \n",
      "2     0.630828  0.025670  0.319648  0.105309  0.944750  0.017539  0.009843  \n",
      "3     0.630828  0.025670  0.319648  0.105309  0.944750  0.017539  0.009843  \n",
      "4     0.630828  0.025670  0.319648  0.105309  0.944750  0.017539  0.009843  \n",
      "...        ...       ...       ...       ...       ...       ...       ...  \n",
      "1665  0.990859  0.328092  0.004422  0.082679  0.865627  0.348156  0.318990  \n",
      "1666  0.098256  0.852877  0.935348  0.970010  0.034550  0.838056  0.855241  \n",
      "1667  0.380585  0.991073  0.673679  0.880756  0.040188  0.993083  0.983597  \n",
      "1668  0.380585  0.991073  0.673679  0.880756  0.040188  0.993083  0.983597  \n",
      "1669  0.910933  0.154333  0.058466  0.007521  0.956120  0.171003  0.145920  \n",
      "\n",
      "[1670 rows x 847 columns]\n",
      "0       1\n",
      "1       1\n",
      "2       1\n",
      "3       1\n",
      "4       1\n",
      "       ..\n",
      "1665    0\n",
      "1666    0\n",
      "1667    0\n",
      "1668    0\n",
      "1669    0\n",
      "Name: label, Length: 1670, dtype: int64\n",
      "# Drug = 184 | Mutation = 639\n",
      "# Test: Drug = 36 | Mutation = 127\n"
     ]
    },
    {
     "name": "stderr",
     "output_type": "stream",
     "text": [
      "\n",
      "100%|██████████████████████████████████████████████████████████████████████████| 5010/5010 [00:00<00:00, 837223.12it/s]\n"
     ]
    },
    {
     "name": "stdout",
     "output_type": "stream",
     "text": [
      "--Complete-- 5\n"
     ]
    },
    {
     "name": "stderr",
     "output_type": "stream",
     "text": [
      "100%|██████████████████████████████████████████████████████████████████████████| 8350/8350 [00:00<00:00, 761125.71it/s]\n",
      "100%|██████████████████████████████████████████████████████████████████████████| 8350/8350 [00:00<00:00, 697699.83it/s]\n",
      "100%|██████████████████████████████████████████████████████████████████████████| 8350/8350 [00:00<00:00, 761158.79it/s]\n",
      "  0%|                                                                                         | 0/8350 [00:00<?, ?it/s]"
     ]
    },
    {
     "name": "stdout",
     "output_type": "stream",
     "text": [
      "num_node 1670\n",
      "node_feat            0_x       1_x       2_x       3_x       4_x       5_x       6_x  \\\n",
      "0     0.000000  0.227305  0.195368  0.222083  0.218782  0.199313  0.206095   \n",
      "1     0.891151  0.959950  0.975833  0.987653  0.993496  0.967372  0.000000   \n",
      "2     0.920408  0.950667  0.991906  0.995222  0.992450  0.991524  0.987794   \n",
      "3     0.871441  0.889783  0.993341  0.968516  0.956858  0.998308  0.951931   \n",
      "4     0.894709  0.969457  0.841373  0.915243  0.938411  0.825470  0.938192   \n",
      "...        ...       ...       ...       ...       ...       ...       ...   \n",
      "1665  0.859920  0.909371  0.997017  0.973323  0.969097  0.997544  0.972053   \n",
      "1666  0.859920  0.909371  0.997017  0.973323  0.969097  0.997544  0.972053   \n",
      "1667  0.929509  0.993179  0.886432  0.955361  0.972236  0.877694  0.959136   \n",
      "1668  0.960399  0.973907  0.974810  0.000000  0.999249  0.973968  0.987774   \n",
      "1669  0.960399  0.973907  0.974810  0.000000  0.999249  0.973968  0.987774   \n",
      "\n",
      "           7_x       8_x       9_x  ...       652       653       654  \\\n",
      "0     0.212841  0.217671  0.201541  ...  0.016899  0.323742  0.096341   \n",
      "1     0.987698  0.970435  0.951951  ...  0.016899  0.323742  0.096341   \n",
      "2     0.000000  0.943036  0.986653  ...  0.016899  0.323742  0.096341   \n",
      "3     0.986537  0.873554  0.000000  ...  0.016899  0.323742  0.096341   \n",
      "4     0.888621  0.987485  0.799052  ...  0.016899  0.323742  0.096341   \n",
      "...        ...       ...       ...  ...       ...       ...       ...   \n",
      "1665  0.992334  0.903598  0.992848  ...  0.293223  0.815720  0.547602   \n",
      "1666  0.992334  0.903598  0.992848  ...  0.878446  0.361161  0.657227   \n",
      "1667  0.932602  0.996440  0.861148  ...  0.999252  0.681831  0.905144   \n",
      "1668  0.995247  0.964707  0.968654  ...  0.999252  0.681831  0.905144   \n",
      "1669  0.995247  0.964707  0.968654  ...  0.129589  0.636150  0.342989   \n",
      "\n",
      "           655       656       657       658       659       660       661  \n",
      "0     0.630828  0.025670  0.319648  0.105309  0.944750  0.017539  0.009843  \n",
      "1     0.630828  0.025670  0.319648  0.105309  0.944750  0.017539  0.009843  \n",
      "2     0.630828  0.025670  0.319648  0.105309  0.944750  0.017539  0.009843  \n",
      "3     0.630828  0.025670  0.319648  0.105309  0.944750  0.017539  0.009843  \n",
      "4     0.630828  0.025670  0.319648  0.105309  0.944750  0.017539  0.009843  \n",
      "...        ...       ...       ...       ...       ...       ...       ...  \n",
      "1665  0.990859  0.328092  0.004422  0.082679  0.865627  0.348156  0.318990  \n",
      "1666  0.098256  0.852877  0.935348  0.970010  0.034550  0.838056  0.855241  \n",
      "1667  0.380585  0.991073  0.673679  0.880756  0.040188  0.993083  0.983597  \n",
      "1668  0.380585  0.991073  0.673679  0.880756  0.040188  0.993083  0.983597  \n",
      "1669  0.910933  0.154333  0.058466  0.007521  0.956120  0.171003  0.145920  \n",
      "\n",
      "[1670 rows x 847 columns]\n",
      "0       1\n",
      "1       1\n",
      "2       1\n",
      "3       1\n",
      "4       1\n",
      "       ..\n",
      "1665    0\n",
      "1666    0\n",
      "1667    0\n",
      "1668    0\n",
      "1669    0\n",
      "Name: label, Length: 1670, dtype: int64\n",
      "# Drug = 184 | Mutation = 639\n",
      "# Test: Drug = 36 | Mutation = 127\n"
     ]
    },
    {
     "name": "stderr",
     "output_type": "stream",
     "text": [
      "100%|██████████████████████████████████████████████████████████████████████████| 8350/8350 [00:00<00:00, 697685.93it/s]\n",
      "100%|██████████████████████████████████████████████████████████████████████████| 8350/8350 [00:00<00:00, 761175.34it/s]\n"
     ]
    },
    {
     "name": "stdout",
     "output_type": "stream",
     "text": [
      "--Complete-- 5\n"
     ]
    },
    {
     "name": "stderr",
     "output_type": "stream",
     "text": [
      "100%|████████████████████████████████████████████████████████████████████████| 11690/11690 [00:00<00:00, 837227.88it/s]\n",
      "100%|████████████████████████████████████████████████████████████████████████| 11690/11690 [00:00<00:00, 651190.83it/s]\n",
      "100%|████████████████████████████████████████████████████████████████████████| 11690/11690 [00:00<00:00, 781451.83it/s]"
     ]
    },
    {
     "name": "stdout",
     "output_type": "stream",
     "text": [
      "num_node 1670\n",
      "node_feat            0_x       1_x       2_x       3_x       4_x       5_x       6_x  \\\n",
      "0     0.000000  0.227305  0.195368  0.222083  0.218782  0.199313  0.206095   \n",
      "1     0.891151  0.959950  0.975833  0.987653  0.993496  0.967372  0.000000   \n",
      "2     0.920408  0.950667  0.991906  0.995222  0.992450  0.991524  0.987794   \n",
      "3     0.871441  0.889783  0.993341  0.968516  0.956858  0.998308  0.951931   \n",
      "4     0.894709  0.969457  0.841373  0.915243  0.938411  0.825470  0.938192   \n",
      "...        ...       ...       ...       ...       ...       ...       ...   \n",
      "1665  0.859920  0.909371  0.997017  0.973323  0.969097  0.997544  0.972053   \n",
      "1666  0.859920  0.909371  0.997017  0.973323  0.969097  0.997544  0.972053   \n",
      "1667  0.929509  0.993179  0.886432  0.955361  0.972236  0.877694  0.959136   \n",
      "1668  0.960399  0.973907  0.974810  0.000000  0.999249  0.973968  0.987774   \n",
      "1669  0.960399  0.973907  0.974810  0.000000  0.999249  0.973968  0.987774   \n",
      "\n",
      "           7_x       8_x       9_x  ...       652       653       654  \\\n",
      "0     0.212841  0.217671  0.201541  ...  0.016899  0.323742  0.096341   \n",
      "1     0.987698  0.970435  0.951951  ...  0.016899  0.323742  0.096341   \n",
      "2     0.000000  0.943036  0.986653  ...  0.016899  0.323742  0.096341   \n",
      "3     0.986537  0.873554  0.000000  ...  0.016899  0.323742  0.096341   \n",
      "4     0.888621  0.987485  0.799052  ...  0.016899  0.323742  0.096341   \n",
      "...        ...       ...       ...  ...       ...       ...       ...   \n",
      "1665  0.992334  0.903598  0.992848  ...  0.293223  0.815720  0.547602   \n",
      "1666  0.992334  0.903598  0.992848  ...  0.878446  0.361161  0.657227   \n",
      "1667  0.932602  0.996440  0.861148  ...  0.999252  0.681831  0.905144   \n",
      "1668  0.995247  0.964707  0.968654  ...  0.999252  0.681831  0.905144   \n",
      "1669  0.995247  0.964707  0.968654  ...  0.129589  0.636150  0.342989   \n",
      "\n",
      "           655       656       657       658       659       660       661  \n",
      "0     0.630828  0.025670  0.319648  0.105309  0.944750  0.017539  0.009843  \n",
      "1     0.630828  0.025670  0.319648  0.105309  0.944750  0.017539  0.009843  \n",
      "2     0.630828  0.025670  0.319648  0.105309  0.944750  0.017539  0.009843  \n",
      "3     0.630828  0.025670  0.319648  0.105309  0.944750  0.017539  0.009843  \n",
      "4     0.630828  0.025670  0.319648  0.105309  0.944750  0.017539  0.009843  \n",
      "...        ...       ...       ...       ...       ...       ...       ...  \n",
      "1665  0.990859  0.328092  0.004422  0.082679  0.865627  0.348156  0.318990  \n",
      "1666  0.098256  0.852877  0.935348  0.970010  0.034550  0.838056  0.855241  \n",
      "1667  0.380585  0.991073  0.673679  0.880756  0.040188  0.993083  0.983597  \n",
      "1668  0.380585  0.991073  0.673679  0.880756  0.040188  0.993083  0.983597  \n",
      "1669  0.910933  0.154333  0.058466  0.007521  0.956120  0.171003  0.145920  \n",
      "\n",
      "[1670 rows x 847 columns]\n",
      "0       1\n",
      "1       1\n",
      "2       1\n",
      "3       1\n",
      "4       1\n",
      "       ..\n",
      "1665    0\n",
      "1666    0\n",
      "1667    0\n",
      "1668    0\n",
      "1669    0\n",
      "Name: label, Length: 1670, dtype: int64\n",
      "# Drug = 184 | Mutation = 639\n",
      "# Test: Drug = 36 | Mutation = 127\n"
     ]
    },
    {
     "name": "stderr",
     "output_type": "stream",
     "text": [
      "\n",
      "100%|████████████████████████████████████████████████████████████████████████| 11690/11690 [00:00<00:00, 689485.94it/s]\n",
      "100%|████████████████████████████████████████████████████████████████████████| 11690/11690 [00:00<00:00, 781451.83it/s]\n"
     ]
    },
    {
     "name": "stdout",
     "output_type": "stream",
     "text": [
      "--Complete-- 5\n"
     ]
    },
    {
     "name": "stderr",
     "output_type": "stream",
     "text": [
      "100%|████████████████████████████████████████████████████████████████████████| 16700/16700 [00:00<00:00, 837246.47it/s]\n",
      "100%|████████████████████████████████████████████████████████████████████████| 16700/16700 [00:00<00:00, 837256.48it/s]\n",
      "100%|████████████████████████████████████████████████████████████████████████| 16700/16700 [00:00<00:00, 797359.89it/s]"
     ]
    },
    {
     "name": "stdout",
     "output_type": "stream",
     "text": [
      "num_node 1670\n",
      "node_feat            0_x       1_x       2_x       3_x       4_x       5_x       6_x  \\\n",
      "0     0.000000  0.227305  0.195368  0.222083  0.218782  0.199313  0.206095   \n",
      "1     0.891151  0.959950  0.975833  0.987653  0.993496  0.967372  0.000000   \n",
      "2     0.920408  0.950667  0.991906  0.995222  0.992450  0.991524  0.987794   \n",
      "3     0.871441  0.889783  0.993341  0.968516  0.956858  0.998308  0.951931   \n",
      "4     0.894709  0.969457  0.841373  0.915243  0.938411  0.825470  0.938192   \n",
      "...        ...       ...       ...       ...       ...       ...       ...   \n",
      "1665  0.859920  0.909371  0.997017  0.973323  0.969097  0.997544  0.972053   \n",
      "1666  0.859920  0.909371  0.997017  0.973323  0.969097  0.997544  0.972053   \n",
      "1667  0.929509  0.993179  0.886432  0.955361  0.972236  0.877694  0.959136   \n",
      "1668  0.960399  0.973907  0.974810  0.000000  0.999249  0.973968  0.987774   \n",
      "1669  0.960399  0.973907  0.974810  0.000000  0.999249  0.973968  0.987774   \n",
      "\n",
      "           7_x       8_x       9_x  ...       652       653       654  \\\n",
      "0     0.212841  0.217671  0.201541  ...  0.016899  0.323742  0.096341   \n",
      "1     0.987698  0.970435  0.951951  ...  0.016899  0.323742  0.096341   \n",
      "2     0.000000  0.943036  0.986653  ...  0.016899  0.323742  0.096341   \n",
      "3     0.986537  0.873554  0.000000  ...  0.016899  0.323742  0.096341   \n",
      "4     0.888621  0.987485  0.799052  ...  0.016899  0.323742  0.096341   \n",
      "...        ...       ...       ...  ...       ...       ...       ...   \n",
      "1665  0.992334  0.903598  0.992848  ...  0.293223  0.815720  0.547602   \n",
      "1666  0.992334  0.903598  0.992848  ...  0.878446  0.361161  0.657227   \n",
      "1667  0.932602  0.996440  0.861148  ...  0.999252  0.681831  0.905144   \n",
      "1668  0.995247  0.964707  0.968654  ...  0.999252  0.681831  0.905144   \n",
      "1669  0.995247  0.964707  0.968654  ...  0.129589  0.636150  0.342989   \n",
      "\n",
      "           655       656       657       658       659       660       661  \n",
      "0     0.630828  0.025670  0.319648  0.105309  0.944750  0.017539  0.009843  \n",
      "1     0.630828  0.025670  0.319648  0.105309  0.944750  0.017539  0.009843  \n",
      "2     0.630828  0.025670  0.319648  0.105309  0.944750  0.017539  0.009843  \n",
      "3     0.630828  0.025670  0.319648  0.105309  0.944750  0.017539  0.009843  \n",
      "4     0.630828  0.025670  0.319648  0.105309  0.944750  0.017539  0.009843  \n",
      "...        ...       ...       ...       ...       ...       ...       ...  \n",
      "1665  0.990859  0.328092  0.004422  0.082679  0.865627  0.348156  0.318990  \n",
      "1666  0.098256  0.852877  0.935348  0.970010  0.034550  0.838056  0.855241  \n",
      "1667  0.380585  0.991073  0.673679  0.880756  0.040188  0.993083  0.983597  \n",
      "1668  0.380585  0.991073  0.673679  0.880756  0.040188  0.993083  0.983597  \n",
      "1669  0.910933  0.154333  0.058466  0.007521  0.956120  0.171003  0.145920  \n",
      "\n",
      "[1670 rows x 847 columns]\n",
      "0       1\n",
      "1       1\n",
      "2       1\n",
      "3       1\n",
      "4       1\n",
      "       ..\n",
      "1665    0\n",
      "1666    0\n",
      "1667    0\n",
      "1668    0\n",
      "1669    0\n",
      "Name: label, Length: 1670, dtype: int64\n",
      "# Drug = 184 | Mutation = 639\n",
      "# Test: Drug = 36 | Mutation = 127\n"
     ]
    },
    {
     "name": "stderr",
     "output_type": "stream",
     "text": [
      "\n",
      "100%|████████████████████████████████████████████████████████████████████████| 16700/16700 [00:00<00:00, 797378.04it/s]\n",
      "100%|████████████████████████████████████████████████████████████████████████| 16700/16700 [00:00<00:00, 728049.11it/s]\n"
     ]
    },
    {
     "name": "stdout",
     "output_type": "stream",
     "text": [
      "--Complete-- 5\n"
     ]
    },
    {
     "name": "stderr",
     "output_type": "stream",
     "text": [
      "100%|████████████████████████████████████████████████████████████████████████| 25050/25050 [00:00<00:00, 810210.71it/s]\n",
      "100%|████████████████████████████████████████████████████████████████████████| 25050/25050 [00:00<00:00, 866105.97it/s]\n",
      "  0%|                                                                                        | 0/25050 [00:00<?, ?it/s]"
     ]
    },
    {
     "name": "stdout",
     "output_type": "stream",
     "text": [
      "num_node 1670\n",
      "node_feat            0_x       1_x       2_x       3_x       4_x       5_x       6_x  \\\n",
      "0     0.000000  0.227305  0.195368  0.222083  0.218782  0.199313  0.206095   \n",
      "1     0.891151  0.959950  0.975833  0.987653  0.993496  0.967372  0.000000   \n",
      "2     0.920408  0.950667  0.991906  0.995222  0.992450  0.991524  0.987794   \n",
      "3     0.871441  0.889783  0.993341  0.968516  0.956858  0.998308  0.951931   \n",
      "4     0.894709  0.969457  0.841373  0.915243  0.938411  0.825470  0.938192   \n",
      "...        ...       ...       ...       ...       ...       ...       ...   \n",
      "1665  0.859920  0.909371  0.997017  0.973323  0.969097  0.997544  0.972053   \n",
      "1666  0.859920  0.909371  0.997017  0.973323  0.969097  0.997544  0.972053   \n",
      "1667  0.929509  0.993179  0.886432  0.955361  0.972236  0.877694  0.959136   \n",
      "1668  0.960399  0.973907  0.974810  0.000000  0.999249  0.973968  0.987774   \n",
      "1669  0.960399  0.973907  0.974810  0.000000  0.999249  0.973968  0.987774   \n",
      "\n",
      "           7_x       8_x       9_x  ...       652       653       654  \\\n",
      "0     0.212841  0.217671  0.201541  ...  0.016899  0.323742  0.096341   \n",
      "1     0.987698  0.970435  0.951951  ...  0.016899  0.323742  0.096341   \n",
      "2     0.000000  0.943036  0.986653  ...  0.016899  0.323742  0.096341   \n",
      "3     0.986537  0.873554  0.000000  ...  0.016899  0.323742  0.096341   \n",
      "4     0.888621  0.987485  0.799052  ...  0.016899  0.323742  0.096341   \n",
      "...        ...       ...       ...  ...       ...       ...       ...   \n",
      "1665  0.992334  0.903598  0.992848  ...  0.293223  0.815720  0.547602   \n",
      "1666  0.992334  0.903598  0.992848  ...  0.878446  0.361161  0.657227   \n",
      "1667  0.932602  0.996440  0.861148  ...  0.999252  0.681831  0.905144   \n",
      "1668  0.995247  0.964707  0.968654  ...  0.999252  0.681831  0.905144   \n",
      "1669  0.995247  0.964707  0.968654  ...  0.129589  0.636150  0.342989   \n",
      "\n",
      "           655       656       657       658       659       660       661  \n",
      "0     0.630828  0.025670  0.319648  0.105309  0.944750  0.017539  0.009843  \n",
      "1     0.630828  0.025670  0.319648  0.105309  0.944750  0.017539  0.009843  \n",
      "2     0.630828  0.025670  0.319648  0.105309  0.944750  0.017539  0.009843  \n",
      "3     0.630828  0.025670  0.319648  0.105309  0.944750  0.017539  0.009843  \n",
      "4     0.630828  0.025670  0.319648  0.105309  0.944750  0.017539  0.009843  \n",
      "...        ...       ...       ...       ...       ...       ...       ...  \n",
      "1665  0.990859  0.328092  0.004422  0.082679  0.865627  0.348156  0.318990  \n",
      "1666  0.098256  0.852877  0.935348  0.970010  0.034550  0.838056  0.855241  \n",
      "1667  0.380585  0.991073  0.673679  0.880756  0.040188  0.993083  0.983597  \n",
      "1668  0.380585  0.991073  0.673679  0.880756  0.040188  0.993083  0.983597  \n",
      "1669  0.910933  0.154333  0.058466  0.007521  0.956120  0.171003  0.145920  \n",
      "\n",
      "[1670 rows x 847 columns]\n",
      "0       1\n",
      "1       1\n",
      "2       1\n",
      "3       1\n",
      "4       1\n",
      "       ..\n",
      "1665    0\n",
      "1666    0\n",
      "1667    0\n",
      "1668    0\n",
      "1669    0\n",
      "Name: label, Length: 1670, dtype: int64\n",
      "# Drug = 184 | Mutation = 639\n",
      "# Test: Drug = 36 | Mutation = 127\n"
     ]
    },
    {
     "name": "stderr",
     "output_type": "stream",
     "text": [
      "100%|████████████████████████████████████████████████████████████████████████| 25050/25050 [00:00<00:00, 837216.45it/s]\n",
      "100%|████████████████████████████████████████████████████████████████████████| 25050/25050 [00:00<00:00, 881023.30it/s]\n",
      "100%|████████████████████████████████████████████████████████████████████████| 25050/25050 [00:00<00:00, 866091.69it/s]"
     ]
    },
    {
     "name": "stdout",
     "output_type": "stream",
     "text": [
      "--Complete-- 5\n"
     ]
    },
    {
     "name": "stderr",
     "output_type": "stream",
     "text": [
      "\n"
     ]
    }
   ],
   "source": [
    "for task in ['Tm']:\n",
    "    node_feature_label, num_node, node_feat, label, mirna_ids, disease_ids, train_index_all, test_index_all, \\\n",
    "    feats, role, class_map, adj_full, adj_train, adj_val, edge_src_dst = run(task = task, isbalance = True)"
   ]
  },
  {
   "cell_type": "markdown",
   "metadata": {},
   "source": [
    "# RUN nobalance"
   ]
  },
  {
   "cell_type": "code",
   "execution_count": 22,
   "metadata": {},
   "outputs": [
    {
     "name": "stdout",
     "output_type": "stream",
     "text": [
      "num_node 10524\n",
      "node_feat             0_x       1_x       2_x       3_x       4_x       5_x       6_x  \\\n",
      "0      0.000000  0.227305  0.195368  0.222083  0.218782  0.199313  0.206095   \n",
      "1      0.891151  0.959950  0.975833  0.987653  0.993496  0.967372  0.000000   \n",
      "2      0.920408  0.950667  0.991906  0.995222  0.992450  0.991524  0.987794   \n",
      "3      0.871441  0.889783  0.993341  0.968516  0.956858  0.998308  0.951931   \n",
      "4      0.894709  0.969457  0.841373  0.915243  0.938411  0.825470  0.938192   \n",
      "...         ...       ...       ...       ...       ...       ...       ...   \n",
      "10519  0.785024  0.826036  0.983324  0.930918  0.917091  0.987983  0.920082   \n",
      "10520  0.915948  0.968840  0.973972  0.995543  0.999113  0.967655  0.995371   \n",
      "10521  0.948208  0.969684  0.975660  1.000000  0.997859  0.975191  0.984455   \n",
      "10522  0.959047  0.993068  0.862791  0.944805  0.961731  0.853991  0.943685   \n",
      "10523  0.973219  0.990284  0.883873  0.962145  0.971783  0.878055  0.945070   \n",
      "\n",
      "            7_x       8_x       9_x  ...       652       653       654  \\\n",
      "0      0.212841  0.217671  0.201541  ...  0.016899  0.323742  0.096341   \n",
      "1      0.987698  0.970435  0.951951  ...  0.016899  0.323742  0.096341   \n",
      "2      0.000000  0.943036  0.986653  ...  0.016899  0.323742  0.096341   \n",
      "3      0.986537  0.873554  0.000000  ...  0.016899  0.323742  0.096341   \n",
      "4      0.888621  0.987485  0.799052  ...  0.016899  0.323742  0.096341   \n",
      "...         ...       ...       ...  ...       ...       ...       ...   \n",
      "10519  0.958976  0.814909  0.990829  ...  0.998882  0.727391  0.934818   \n",
      "10520  0.989971  0.972626  0.956717  ...  0.998882  0.727391  0.934818   \n",
      "10521  0.994486  0.959179  0.971176  ...  0.998882  0.727391  0.934818   \n",
      "10522  0.915723  0.995985  0.837369  ...  0.998882  0.727391  0.934818   \n",
      "10523  0.932075  0.984438  0.869206  ...  0.998882  0.727391  0.934818   \n",
      "\n",
      "            655       656       657       658       659       660       661  \n",
      "0      0.630828  0.025670  0.319648  0.105309  0.944750  0.017539  0.009843  \n",
      "1      0.630828  0.025670  0.319648  0.105309  0.944750  0.017539  0.009843  \n",
      "2      0.630828  0.025670  0.319648  0.105309  0.944750  0.017539  0.009843  \n",
      "3      0.630828  0.025670  0.319648  0.105309  0.944750  0.017539  0.009843  \n",
      "4      0.630828  0.025670  0.319648  0.105309  0.944750  0.017539  0.009843  \n",
      "...         ...       ...       ...       ...       ...       ...       ...  \n",
      "10519  0.422798  0.996914  0.636339  0.867610  0.066921  0.999334  0.992401  \n",
      "10520  0.422798  0.996914  0.636339  0.867610  0.066921  0.999334  0.992401  \n",
      "10521  0.422798  0.996914  0.636339  0.867610  0.066921  0.999334  0.992401  \n",
      "10522  0.422798  0.996914  0.636339  0.867610  0.066921  0.999334  0.992401  \n",
      "10523  0.422798  0.996914  0.636339  0.867610  0.066921  0.999334  0.992401  \n",
      "\n",
      "[10524 rows x 847 columns]\n",
      "0        1\n",
      "1        1\n",
      "2        1\n",
      "3        1\n",
      "4        1\n",
      "        ..\n",
      "10519    0\n",
      "10520    0\n",
      "10521    0\n",
      "10522    0\n",
      "10523    0\n",
      "Name: label, Length: 10524, dtype: int64\n",
      "# Drug = 184 | Mutation = 661\n",
      "# Test: Drug = 36 | Mutation = 132\n"
     ]
    },
    {
     "name": "stderr",
     "output_type": "stream",
     "text": [
      "100%|██████████| 31572/31572 [00:00<00:00, 753724.24it/s]\n",
      "100%|██████████| 31572/31572 [00:00<00:00, 791390.41it/s]\n",
      "100%|██████████| 31572/31572 [00:00<00:00, 736196.26it/s]\n",
      "100%|██████████| 31572/31572 [00:00<00:00, 703481.03it/s]\n",
      "100%|██████████| 31572/31572 [00:00<00:00, 791399.87it/s]\n"
     ]
    },
    {
     "name": "stdout",
     "output_type": "stream",
     "text": [
      "--Complete-- 5\n",
      "num_node 10524\n",
      "node_feat             0_x       1_x       2_x       3_x       4_x       5_x       6_x  \\\n",
      "0      0.000000  0.227305  0.195368  0.222083  0.218782  0.199313  0.206095   \n",
      "1      0.891151  0.959950  0.975833  0.987653  0.993496  0.967372  0.000000   \n",
      "2      0.920408  0.950667  0.991906  0.995222  0.992450  0.991524  0.987794   \n",
      "3      0.871441  0.889783  0.993341  0.968516  0.956858  0.998308  0.951931   \n",
      "4      0.894709  0.969457  0.841373  0.915243  0.938411  0.825470  0.938192   \n",
      "...         ...       ...       ...       ...       ...       ...       ...   \n",
      "10519  0.785024  0.826036  0.983324  0.930918  0.917091  0.987983  0.920082   \n",
      "10520  0.915948  0.968840  0.973972  0.995543  0.999113  0.967655  0.995371   \n",
      "10521  0.948208  0.969684  0.975660  1.000000  0.997859  0.975191  0.984455   \n",
      "10522  0.959047  0.993068  0.862791  0.944805  0.961731  0.853991  0.943685   \n",
      "10523  0.973219  0.990284  0.883873  0.962145  0.971783  0.878055  0.945070   \n",
      "\n",
      "            7_x       8_x       9_x  ...       652       653       654  \\\n",
      "0      0.212841  0.217671  0.201541  ...  0.016899  0.323742  0.096341   \n",
      "1      0.987698  0.970435  0.951951  ...  0.016899  0.323742  0.096341   \n",
      "2      0.000000  0.943036  0.986653  ...  0.016899  0.323742  0.096341   \n",
      "3      0.986537  0.873554  0.000000  ...  0.016899  0.323742  0.096341   \n",
      "4      0.888621  0.987485  0.799052  ...  0.016899  0.323742  0.096341   \n",
      "...         ...       ...       ...  ...       ...       ...       ...   \n",
      "10519  0.958976  0.814909  0.990829  ...  0.998882  0.727391  0.934818   \n",
      "10520  0.989971  0.972626  0.956717  ...  0.998882  0.727391  0.934818   \n",
      "10521  0.994486  0.959179  0.971176  ...  0.998882  0.727391  0.934818   \n",
      "10522  0.915723  0.995985  0.837369  ...  0.998882  0.727391  0.934818   \n",
      "10523  0.932075  0.984438  0.869206  ...  0.998882  0.727391  0.934818   \n",
      "\n",
      "            655       656       657       658       659       660       661  \n",
      "0      0.630828  0.025670  0.319648  0.105309  0.944750  0.017539  0.009843  \n",
      "1      0.630828  0.025670  0.319648  0.105309  0.944750  0.017539  0.009843  \n",
      "2      0.630828  0.025670  0.319648  0.105309  0.944750  0.017539  0.009843  \n",
      "3      0.630828  0.025670  0.319648  0.105309  0.944750  0.017539  0.009843  \n",
      "4      0.630828  0.025670  0.319648  0.105309  0.944750  0.017539  0.009843  \n",
      "...         ...       ...       ...       ...       ...       ...       ...  \n",
      "10519  0.422798  0.996914  0.636339  0.867610  0.066921  0.999334  0.992401  \n",
      "10520  0.422798  0.996914  0.636339  0.867610  0.066921  0.999334  0.992401  \n",
      "10521  0.422798  0.996914  0.636339  0.867610  0.066921  0.999334  0.992401  \n",
      "10522  0.422798  0.996914  0.636339  0.867610  0.066921  0.999334  0.992401  \n",
      "10523  0.422798  0.996914  0.636339  0.867610  0.066921  0.999334  0.992401  \n",
      "\n",
      "[10524 rows x 847 columns]\n",
      "0        1\n",
      "1        1\n",
      "2        1\n",
      "3        1\n",
      "4        1\n",
      "        ..\n",
      "10519    0\n",
      "10520    0\n",
      "10521    0\n",
      "10522    0\n",
      "10523    0\n",
      "Name: label, Length: 10524, dtype: int64\n",
      "# Drug = 184 | Mutation = 661\n",
      "# Test: Drug = 36 | Mutation = 132\n"
     ]
    },
    {
     "name": "stderr",
     "output_type": "stream",
     "text": [
      "100%|██████████| 52620/52620 [00:00<00:00, 787503.93it/s]\n",
      "100%|██████████| 52620/52620 [00:00<00:00, 764651.00it/s]\n",
      "100%|██████████| 52620/52620 [00:00<00:00, 703469.07it/s]\n",
      "100%|██████████| 52620/52620 [00:00<00:00, 775873.77it/s]\n",
      "100%|██████████| 52620/52620 [00:00<00:00, 732786.42it/s]\n"
     ]
    },
    {
     "name": "stdout",
     "output_type": "stream",
     "text": [
      "--Complete-- 5\n",
      "num_node 10524\n",
      "node_feat             0_x       1_x       2_x       3_x       4_x       5_x       6_x  \\\n",
      "0      0.000000  0.227305  0.195368  0.222083  0.218782  0.199313  0.206095   \n",
      "1      0.891151  0.959950  0.975833  0.987653  0.993496  0.967372  0.000000   \n",
      "2      0.920408  0.950667  0.991906  0.995222  0.992450  0.991524  0.987794   \n",
      "3      0.871441  0.889783  0.993341  0.968516  0.956858  0.998308  0.951931   \n",
      "4      0.894709  0.969457  0.841373  0.915243  0.938411  0.825470  0.938192   \n",
      "...         ...       ...       ...       ...       ...       ...       ...   \n",
      "10519  0.785024  0.826036  0.983324  0.930918  0.917091  0.987983  0.920082   \n",
      "10520  0.915948  0.968840  0.973972  0.995543  0.999113  0.967655  0.995371   \n",
      "10521  0.948208  0.969684  0.975660  1.000000  0.997859  0.975191  0.984455   \n",
      "10522  0.959047  0.993068  0.862791  0.944805  0.961731  0.853991  0.943685   \n",
      "10523  0.973219  0.990284  0.883873  0.962145  0.971783  0.878055  0.945070   \n",
      "\n",
      "            7_x       8_x       9_x  ...       652       653       654  \\\n",
      "0      0.212841  0.217671  0.201541  ...  0.016899  0.323742  0.096341   \n",
      "1      0.987698  0.970435  0.951951  ...  0.016899  0.323742  0.096341   \n",
      "2      0.000000  0.943036  0.986653  ...  0.016899  0.323742  0.096341   \n",
      "3      0.986537  0.873554  0.000000  ...  0.016899  0.323742  0.096341   \n",
      "4      0.888621  0.987485  0.799052  ...  0.016899  0.323742  0.096341   \n",
      "...         ...       ...       ...  ...       ...       ...       ...   \n",
      "10519  0.958976  0.814909  0.990829  ...  0.998882  0.727391  0.934818   \n",
      "10520  0.989971  0.972626  0.956717  ...  0.998882  0.727391  0.934818   \n",
      "10521  0.994486  0.959179  0.971176  ...  0.998882  0.727391  0.934818   \n",
      "10522  0.915723  0.995985  0.837369  ...  0.998882  0.727391  0.934818   \n",
      "10523  0.932075  0.984438  0.869206  ...  0.998882  0.727391  0.934818   \n",
      "\n",
      "            655       656       657       658       659       660       661  \n",
      "0      0.630828  0.025670  0.319648  0.105309  0.944750  0.017539  0.009843  \n",
      "1      0.630828  0.025670  0.319648  0.105309  0.944750  0.017539  0.009843  \n",
      "2      0.630828  0.025670  0.319648  0.105309  0.944750  0.017539  0.009843  \n",
      "3      0.630828  0.025670  0.319648  0.105309  0.944750  0.017539  0.009843  \n",
      "4      0.630828  0.025670  0.319648  0.105309  0.944750  0.017539  0.009843  \n",
      "...         ...       ...       ...       ...       ...       ...       ...  \n",
      "10519  0.422798  0.996914  0.636339  0.867610  0.066921  0.999334  0.992401  \n",
      "10520  0.422798  0.996914  0.636339  0.867610  0.066921  0.999334  0.992401  \n",
      "10521  0.422798  0.996914  0.636339  0.867610  0.066921  0.999334  0.992401  \n",
      "10522  0.422798  0.996914  0.636339  0.867610  0.066921  0.999334  0.992401  \n",
      "10523  0.422798  0.996914  0.636339  0.867610  0.066921  0.999334  0.992401  \n",
      "\n",
      "[10524 rows x 847 columns]\n",
      "0        1\n",
      "1        1\n",
      "2        1\n",
      "3        1\n",
      "4        1\n",
      "        ..\n",
      "10519    0\n",
      "10520    0\n",
      "10521    0\n",
      "10522    0\n",
      "10523    0\n",
      "Name: label, Length: 10524, dtype: int64\n",
      "# Drug = 184 | Mutation = 661\n",
      "# Test: Drug = 36 | Mutation = 132\n"
     ]
    },
    {
     "name": "stderr",
     "output_type": "stream",
     "text": [
      "100%|██████████| 73668/73668 [00:00<00:00, 785819.98it/s]\n",
      "100%|██████████| 73668/73668 [00:00<00:00, 724175.16it/s]\n",
      "100%|██████████| 73668/73668 [00:00<00:00, 703481.57it/s]\n",
      "100%|██████████| 73668/73668 [00:00<00:00, 610450.01it/s]\n",
      "100%|██████████| 73668/73668 [00:00<00:00, 482780.04it/s]\n"
     ]
    },
    {
     "name": "stdout",
     "output_type": "stream",
     "text": [
      "--Complete-- 5\n",
      "num_node 10524\n",
      "node_feat             0_x       1_x       2_x       3_x       4_x       5_x       6_x  \\\n",
      "0      0.000000  0.227305  0.195368  0.222083  0.218782  0.199313  0.206095   \n",
      "1      0.891151  0.959950  0.975833  0.987653  0.993496  0.967372  0.000000   \n",
      "2      0.920408  0.950667  0.991906  0.995222  0.992450  0.991524  0.987794   \n",
      "3      0.871441  0.889783  0.993341  0.968516  0.956858  0.998308  0.951931   \n",
      "4      0.894709  0.969457  0.841373  0.915243  0.938411  0.825470  0.938192   \n",
      "...         ...       ...       ...       ...       ...       ...       ...   \n",
      "10519  0.785024  0.826036  0.983324  0.930918  0.917091  0.987983  0.920082   \n",
      "10520  0.915948  0.968840  0.973972  0.995543  0.999113  0.967655  0.995371   \n",
      "10521  0.948208  0.969684  0.975660  1.000000  0.997859  0.975191  0.984455   \n",
      "10522  0.959047  0.993068  0.862791  0.944805  0.961731  0.853991  0.943685   \n",
      "10523  0.973219  0.990284  0.883873  0.962145  0.971783  0.878055  0.945070   \n",
      "\n",
      "            7_x       8_x       9_x  ...       652       653       654  \\\n",
      "0      0.212841  0.217671  0.201541  ...  0.016899  0.323742  0.096341   \n",
      "1      0.987698  0.970435  0.951951  ...  0.016899  0.323742  0.096341   \n",
      "2      0.000000  0.943036  0.986653  ...  0.016899  0.323742  0.096341   \n",
      "3      0.986537  0.873554  0.000000  ...  0.016899  0.323742  0.096341   \n",
      "4      0.888621  0.987485  0.799052  ...  0.016899  0.323742  0.096341   \n",
      "...         ...       ...       ...  ...       ...       ...       ...   \n",
      "10519  0.958976  0.814909  0.990829  ...  0.998882  0.727391  0.934818   \n",
      "10520  0.989971  0.972626  0.956717  ...  0.998882  0.727391  0.934818   \n",
      "10521  0.994486  0.959179  0.971176  ...  0.998882  0.727391  0.934818   \n",
      "10522  0.915723  0.995985  0.837369  ...  0.998882  0.727391  0.934818   \n",
      "10523  0.932075  0.984438  0.869206  ...  0.998882  0.727391  0.934818   \n",
      "\n",
      "            655       656       657       658       659       660       661  \n",
      "0      0.630828  0.025670  0.319648  0.105309  0.944750  0.017539  0.009843  \n",
      "1      0.630828  0.025670  0.319648  0.105309  0.944750  0.017539  0.009843  \n",
      "2      0.630828  0.025670  0.319648  0.105309  0.944750  0.017539  0.009843  \n",
      "3      0.630828  0.025670  0.319648  0.105309  0.944750  0.017539  0.009843  \n",
      "4      0.630828  0.025670  0.319648  0.105309  0.944750  0.017539  0.009843  \n",
      "...         ...       ...       ...       ...       ...       ...       ...  \n",
      "10519  0.422798  0.996914  0.636339  0.867610  0.066921  0.999334  0.992401  \n",
      "10520  0.422798  0.996914  0.636339  0.867610  0.066921  0.999334  0.992401  \n",
      "10521  0.422798  0.996914  0.636339  0.867610  0.066921  0.999334  0.992401  \n",
      "10522  0.422798  0.996914  0.636339  0.867610  0.066921  0.999334  0.992401  \n",
      "10523  0.422798  0.996914  0.636339  0.867610  0.066921  0.999334  0.992401  \n",
      "\n",
      "[10524 rows x 847 columns]\n",
      "0        1\n",
      "1        1\n",
      "2        1\n",
      "3        1\n",
      "4        1\n",
      "        ..\n",
      "10519    0\n",
      "10520    0\n",
      "10521    0\n",
      "10522    0\n",
      "10523    0\n",
      "Name: label, Length: 10524, dtype: int64\n",
      "# Drug = 184 | Mutation = 661\n",
      "# Test: Drug = 36 | Mutation = 132\n"
     ]
    },
    {
     "name": "stderr",
     "output_type": "stream",
     "text": [
      "100%|██████████| 105240/105240 [00:00<00:00, 631863.62it/s]\n",
      "100%|██████████| 105240/105240 [00:00<00:00, 447116.44it/s]\n",
      "100%|██████████| 105240/105240 [00:00<00:00, 570387.40it/s]\n",
      "100%|██████████| 105240/105240 [00:00<00:00, 576611.19it/s]\n",
      "100%|██████████| 105240/105240 [00:00<00:00, 620716.04it/s]\n"
     ]
    },
    {
     "name": "stdout",
     "output_type": "stream",
     "text": [
      "--Complete-- 5\n",
      "num_node 10524\n",
      "node_feat             0_x       1_x       2_x       3_x       4_x       5_x       6_x  \\\n",
      "0      0.000000  0.227305  0.195368  0.222083  0.218782  0.199313  0.206095   \n",
      "1      0.891151  0.959950  0.975833  0.987653  0.993496  0.967372  0.000000   \n",
      "2      0.920408  0.950667  0.991906  0.995222  0.992450  0.991524  0.987794   \n",
      "3      0.871441  0.889783  0.993341  0.968516  0.956858  0.998308  0.951931   \n",
      "4      0.894709  0.969457  0.841373  0.915243  0.938411  0.825470  0.938192   \n",
      "...         ...       ...       ...       ...       ...       ...       ...   \n",
      "10519  0.785024  0.826036  0.983324  0.930918  0.917091  0.987983  0.920082   \n",
      "10520  0.915948  0.968840  0.973972  0.995543  0.999113  0.967655  0.995371   \n",
      "10521  0.948208  0.969684  0.975660  1.000000  0.997859  0.975191  0.984455   \n",
      "10522  0.959047  0.993068  0.862791  0.944805  0.961731  0.853991  0.943685   \n",
      "10523  0.973219  0.990284  0.883873  0.962145  0.971783  0.878055  0.945070   \n",
      "\n",
      "            7_x       8_x       9_x  ...       652       653       654  \\\n",
      "0      0.212841  0.217671  0.201541  ...  0.016899  0.323742  0.096341   \n",
      "1      0.987698  0.970435  0.951951  ...  0.016899  0.323742  0.096341   \n",
      "2      0.000000  0.943036  0.986653  ...  0.016899  0.323742  0.096341   \n",
      "3      0.986537  0.873554  0.000000  ...  0.016899  0.323742  0.096341   \n",
      "4      0.888621  0.987485  0.799052  ...  0.016899  0.323742  0.096341   \n",
      "...         ...       ...       ...  ...       ...       ...       ...   \n",
      "10519  0.958976  0.814909  0.990829  ...  0.998882  0.727391  0.934818   \n",
      "10520  0.989971  0.972626  0.956717  ...  0.998882  0.727391  0.934818   \n",
      "10521  0.994486  0.959179  0.971176  ...  0.998882  0.727391  0.934818   \n",
      "10522  0.915723  0.995985  0.837369  ...  0.998882  0.727391  0.934818   \n",
      "10523  0.932075  0.984438  0.869206  ...  0.998882  0.727391  0.934818   \n",
      "\n",
      "            655       656       657       658       659       660       661  \n",
      "0      0.630828  0.025670  0.319648  0.105309  0.944750  0.017539  0.009843  \n",
      "1      0.630828  0.025670  0.319648  0.105309  0.944750  0.017539  0.009843  \n",
      "2      0.630828  0.025670  0.319648  0.105309  0.944750  0.017539  0.009843  \n",
      "3      0.630828  0.025670  0.319648  0.105309  0.944750  0.017539  0.009843  \n",
      "4      0.630828  0.025670  0.319648  0.105309  0.944750  0.017539  0.009843  \n",
      "...         ...       ...       ...       ...       ...       ...       ...  \n",
      "10519  0.422798  0.996914  0.636339  0.867610  0.066921  0.999334  0.992401  \n",
      "10520  0.422798  0.996914  0.636339  0.867610  0.066921  0.999334  0.992401  \n",
      "10521  0.422798  0.996914  0.636339  0.867610  0.066921  0.999334  0.992401  \n",
      "10522  0.422798  0.996914  0.636339  0.867610  0.066921  0.999334  0.992401  \n",
      "10523  0.422798  0.996914  0.636339  0.867610  0.066921  0.999334  0.992401  \n",
      "\n",
      "[10524 rows x 847 columns]\n",
      "0        1\n",
      "1        1\n",
      "2        1\n",
      "3        1\n",
      "4        1\n",
      "        ..\n",
      "10519    0\n",
      "10520    0\n",
      "10521    0\n",
      "10522    0\n",
      "10523    0\n",
      "Name: label, Length: 10524, dtype: int64\n",
      "# Drug = 184 | Mutation = 661\n",
      "# Test: Drug = 36 | Mutation = 132\n"
     ]
    },
    {
     "name": "stderr",
     "output_type": "stream",
     "text": [
      "100%|██████████| 157860/157860 [00:00<00:00, 623121.03it/s]\n",
      "100%|██████████| 157860/157860 [00:00<00:00, 368097.92it/s]\n",
      "100%|██████████| 157860/157860 [00:00<00:00, 477464.78it/s]\n",
      "100%|██████████| 157860/157860 [00:00<00:00, 468290.95it/s]\n",
      "100%|██████████| 157860/157860 [00:00<00:00, 608778.93it/s]\n"
     ]
    },
    {
     "name": "stdout",
     "output_type": "stream",
     "text": [
      "--Complete-- 5\n"
     ]
    }
   ],
   "source": [
    "for task in ['Tp']:\n",
    "    node_feature_label, num_node, node_feat, label, mirna_ids, disease_ids, train_index_all, test_index_all, \\\n",
    "    feats, role, class_map, adj_full, adj_train, adj_val, edge_src_dst = run(task = task, isbalance = False)\n",
    "    \n"
   ]
  },
  {
   "cell_type": "code",
   "execution_count": 219,
   "metadata": {},
   "outputs": [
    {
     "name": "stdout",
     "output_type": "stream",
     "text": [
      "# Drug = 184 | Mutation = 661\n",
      "# Test: Drug = 36 | Mutation = 132\n"
     ]
    },
    {
     "name": "stderr",
     "output_type": "stream",
     "text": [
      "100%|██████████| 121624/121624 [00:00<00:00, 743593.26it/s]\n"
     ]
    },
    {
     "name": "stdout",
     "output_type": "stream",
     "text": [
      "adj_full  num edges: 121624\n",
      "adj_val   num edges: 23796\n",
      "adj_train num edges: 97828\n"
     ]
    },
    {
     "name": "stderr",
     "output_type": "stream",
     "text": [
      "100%|██████████| 121624/121624 [00:00<00:00, 771833.67it/s]\n"
     ]
    },
    {
     "name": "stdout",
     "output_type": "stream",
     "text": [
      "adj_full  num edges: 121624\n",
      "adj_val   num edges: 23796\n",
      "adj_train num edges: 97828\n"
     ]
    },
    {
     "name": "stderr",
     "output_type": "stream",
     "text": [
      "100%|██████████| 121624/121624 [00:00<00:00, 762184.84it/s]\n"
     ]
    },
    {
     "name": "stdout",
     "output_type": "stream",
     "text": [
      "adj_full  num edges: 121624\n",
      "adj_val   num edges: 23796\n",
      "adj_train num edges: 97828\n"
     ]
    },
    {
     "name": "stderr",
     "output_type": "stream",
     "text": [
      "100%|██████████| 121624/121624 [00:00<00:00, 747968.57it/s]\n"
     ]
    },
    {
     "name": "stdout",
     "output_type": "stream",
     "text": [
      "adj_full  num edges: 121624\n",
      "adj_val   num edges: 23796\n",
      "adj_train num edges: 97828\n"
     ]
    },
    {
     "name": "stderr",
     "output_type": "stream",
     "text": [
      "100%|██████████| 121624/121624 [00:00<00:00, 761573.81it/s]\n"
     ]
    },
    {
     "name": "stdout",
     "output_type": "stream",
     "text": [
      "adj_full  num edges: 121624\n",
      "adj_val   num edges: 26440\n",
      "adj_train num edges: 95184\n",
      "--Complete-- 5\n",
      "# Drug = 184 | Mutation = 661\n",
      "# Test: Drug = 36 | Mutation = 132\n"
     ]
    },
    {
     "name": "stderr",
     "output_type": "stream",
     "text": [
      "100%|██████████| 364872/364872 [00:00<00:00, 796089.47it/s]\n"
     ]
    },
    {
     "name": "stdout",
     "output_type": "stream",
     "text": [
      "adj_full  num edges: 364872\n",
      "adj_val   num edges: 55736\n",
      "adj_train num edges: 277988\n"
     ]
    },
    {
     "name": "stderr",
     "output_type": "stream",
     "text": [
      "100%|██████████| 364872/364872 [00:00<00:00, 812995.79it/s]\n"
     ]
    },
    {
     "name": "stdout",
     "output_type": "stream",
     "text": [
      "adj_full  num edges: 364872\n",
      "adj_val   num edges: 57055\n",
      "adj_train num edges: 279044\n"
     ]
    },
    {
     "name": "stderr",
     "output_type": "stream",
     "text": [
      "100%|██████████| 364872/364872 [00:00<00:00, 812975.06it/s]\n"
     ]
    },
    {
     "name": "stdout",
     "output_type": "stream",
     "text": [
      "adj_full  num edges: 364872\n",
      "adj_val   num edges: 56263\n",
      "adj_train num edges: 278518\n"
     ]
    },
    {
     "name": "stderr",
     "output_type": "stream",
     "text": [
      "100%|██████████| 364872/364872 [00:00<00:00, 810036.90it/s]\n"
     ]
    },
    {
     "name": "stdout",
     "output_type": "stream",
     "text": [
      "adj_full  num edges: 364872\n",
      "adj_val   num edges: 57572\n",
      "adj_train num edges: 280485\n"
     ]
    },
    {
     "name": "stderr",
     "output_type": "stream",
     "text": [
      "100%|██████████| 364872/364872 [00:00<00:00, 812944.83it/s]\n"
     ]
    },
    {
     "name": "stdout",
     "output_type": "stream",
     "text": [
      "adj_full  num edges: 364872\n",
      "adj_val   num edges: 64013\n",
      "adj_train num edges: 269220\n",
      "--Complete-- 5\n",
      "# Drug = 184 | Mutation = 661\n",
      "# Test: Drug = 36 | Mutation = 132\n"
     ]
    },
    {
     "name": "stderr",
     "output_type": "stream",
     "text": [
      "100%|██████████| 608120/608120 [00:00<00:00, 782729.81it/s]\n"
     ]
    },
    {
     "name": "stdout",
     "output_type": "stream",
     "text": [
      "adj_full  num edges: 608120\n",
      "adj_val   num edges: 87798\n",
      "adj_train num edges: 457735\n"
     ]
    },
    {
     "name": "stderr",
     "output_type": "stream",
     "text": [
      "100%|██████████| 608120/608120 [00:00<00:00, 789797.56it/s]\n"
     ]
    },
    {
     "name": "stdout",
     "output_type": "stream",
     "text": [
      "adj_full  num edges: 608120\n",
      "adj_val   num edges: 90090\n",
      "adj_train num edges: 460013\n"
     ]
    },
    {
     "name": "stderr",
     "output_type": "stream",
     "text": [
      "100%|██████████| 608120/608120 [00:00<00:00, 787683.89it/s]\n"
     ]
    },
    {
     "name": "stdout",
     "output_type": "stream",
     "text": [
      "adj_full  num edges: 608120\n",
      "adj_val   num edges: 88981\n",
      "adj_train num edges: 459999\n"
     ]
    },
    {
     "name": "stderr",
     "output_type": "stream",
     "text": [
      "100%|██████████| 608120/608120 [00:00<00:00, 800091.39it/s]\n"
     ]
    },
    {
     "name": "stdout",
     "output_type": "stream",
     "text": [
      "adj_full  num edges: 608120\n",
      "adj_val   num edges: 91339\n",
      "adj_train num edges: 461377\n"
     ]
    },
    {
     "name": "stderr",
     "output_type": "stream",
     "text": [
      "100%|██████████| 608120/608120 [00:00<00:00, 802326.78it/s]\n"
     ]
    },
    {
     "name": "stdout",
     "output_type": "stream",
     "text": [
      "adj_full  num edges: 608120\n",
      "adj_val   num edges: 101818\n",
      "adj_train num edges: 445262\n",
      "--Complete-- 5\n",
      "# Drug = 184 | Mutation = 661\n",
      "# Test: Drug = 36 | Mutation = 132\n"
     ]
    },
    {
     "name": "stderr",
     "output_type": "stream",
     "text": [
      "100%|██████████| 851368/851368 [00:01<00:00, 791899.07it/s]\n"
     ]
    },
    {
     "name": "stdout",
     "output_type": "stream",
     "text": [
      "adj_full  num edges: 851368\n",
      "adj_val   num edges: 118805\n",
      "adj_train num edges: 636784\n"
     ]
    },
    {
     "name": "stderr",
     "output_type": "stream",
     "text": [
      "100%|██████████| 851368/851368 [00:01<00:00, 799596.45it/s]\n"
     ]
    },
    {
     "name": "stdout",
     "output_type": "stream",
     "text": [
      "adj_full  num edges: 851368\n",
      "adj_val   num edges: 122099\n",
      "adj_train num edges: 639675\n"
     ]
    },
    {
     "name": "stderr",
     "output_type": "stream",
     "text": [
      "100%|██████████| 851368/851368 [00:01<00:00, 804566.31it/s]\n"
     ]
    },
    {
     "name": "stdout",
     "output_type": "stream",
     "text": [
      "adj_full  num edges: 851368\n",
      "adj_val   num edges: 121261\n",
      "adj_train num edges: 640731\n"
     ]
    },
    {
     "name": "stderr",
     "output_type": "stream",
     "text": [
      "100%|██████████| 851368/851368 [00:01<00:00, 800043.06it/s]\n"
     ]
    },
    {
     "name": "stdout",
     "output_type": "stream",
     "text": [
      "adj_full  num edges: 851368\n",
      "adj_val   num edges: 123487\n",
      "adj_train num edges: 642445\n"
     ]
    },
    {
     "name": "stderr",
     "output_type": "stream",
     "text": [
      "100%|██████████| 851368/851368 [00:01<00:00, 797798.59it/s]\n"
     ]
    },
    {
     "name": "stdout",
     "output_type": "stream",
     "text": [
      "adj_full  num edges: 851368\n",
      "adj_val   num edges: 139019\n",
      "adj_train num edges: 619140\n",
      "--Complete-- 5\n",
      "# Drug = 184 | Mutation = 661\n",
      "# Test: Drug = 36 | Mutation = 132\n"
     ]
    },
    {
     "name": "stderr",
     "output_type": "stream",
     "text": [
      "100%|██████████| 1216240/1216240 [00:01<00:00, 814333.05it/s]\n"
     ]
    },
    {
     "name": "stdout",
     "output_type": "stream",
     "text": [
      "adj_full  num edges: 1216240\n",
      "adj_val   num edges: 162393\n",
      "adj_train num edges: 902134\n"
     ]
    },
    {
     "name": "stderr",
     "output_type": "stream",
     "text": [
      "100%|██████████| 1216240/1216240 [00:01<00:00, 840666.49it/s]\n"
     ]
    },
    {
     "name": "stdout",
     "output_type": "stream",
     "text": [
      "adj_full  num edges: 1216240\n",
      "adj_val   num edges: 166951\n",
      "adj_train num edges: 905738\n"
     ]
    },
    {
     "name": "stderr",
     "output_type": "stream",
     "text": [
      "100%|██████████| 1216240/1216240 [00:01<00:00, 834110.46it/s]\n"
     ]
    },
    {
     "name": "stdout",
     "output_type": "stream",
     "text": [
      "adj_full  num edges: 1216240\n",
      "adj_val   num edges: 166789\n",
      "adj_train num edges: 907759\n"
     ]
    },
    {
     "name": "stderr",
     "output_type": "stream",
     "text": [
      "100%|██████████| 1216240/1216240 [00:01<00:00, 825670.20it/s]\n"
     ]
    },
    {
     "name": "stdout",
     "output_type": "stream",
     "text": [
      "adj_full  num edges: 1216240\n",
      "adj_val   num edges: 169214\n",
      "adj_train num edges: 911411\n"
     ]
    },
    {
     "name": "stderr",
     "output_type": "stream",
     "text": [
      "100%|██████████| 1216240/1216240 [00:01<00:00, 810529.46it/s]\n"
     ]
    },
    {
     "name": "stdout",
     "output_type": "stream",
     "text": [
      "adj_full  num edges: 1216240\n",
      "adj_val   num edges: 190899\n",
      "adj_train num edges: 877924\n",
      "--Complete-- 5\n",
      "# Drug = 184 | Mutation = 661\n",
      "# Test: Drug = 36 | Mutation = 132\n"
     ]
    },
    {
     "name": "stderr",
     "output_type": "stream",
     "text": [
      "100%|██████████| 1824360/1824360 [00:02<00:00, 812268.87it/s]\n"
     ]
    },
    {
     "name": "stdout",
     "output_type": "stream",
     "text": [
      "adj_full  num edges: 1824360\n",
      "adj_val   num edges: 230218\n",
      "adj_train num edges: 1340298\n"
     ]
    },
    {
     "name": "stderr",
     "output_type": "stream",
     "text": [
      "100%|██████████| 1824360/1824360 [00:02<00:00, 812275.77it/s]\n"
     ]
    },
    {
     "name": "stdout",
     "output_type": "stream",
     "text": [
      "adj_full  num edges: 1824360\n",
      "adj_val   num edges: 237210\n",
      "adj_train num edges: 1345165\n"
     ]
    },
    {
     "name": "stderr",
     "output_type": "stream",
     "text": [
      "100%|██████████| 1824360/1824360 [00:02<00:00, 808106.63it/s]\n"
     ]
    },
    {
     "name": "stdout",
     "output_type": "stream",
     "text": [
      "adj_full  num edges: 1824360\n",
      "adj_val   num edges: 239547\n",
      "adj_train num edges: 1349590\n"
     ]
    },
    {
     "name": "stderr",
     "output_type": "stream",
     "text": [
      "100%|██████████| 1824360/1824360 [00:02<00:00, 817361.01it/s]\n"
     ]
    },
    {
     "name": "stdout",
     "output_type": "stream",
     "text": [
      "adj_full  num edges: 1824360\n",
      "adj_val   num edges: 240510\n",
      "adj_train num edges: 1354072\n"
     ]
    },
    {
     "name": "stderr",
     "output_type": "stream",
     "text": [
      "100%|██████████| 1824360/1824360 [00:02<00:00, 819623.84it/s]\n"
     ]
    },
    {
     "name": "stdout",
     "output_type": "stream",
     "text": [
      "adj_full  num edges: 1824360\n",
      "adj_val   num edges: 272914\n",
      "adj_train num edges: 1304354\n",
      "--Complete-- 5\n"
     ]
    }
   ],
   "source": [
    "node_feature_label, num_node, node_feat, label, mirna_ids, disease_ids, train_index_all, test_index_all, \\\n",
    "feats, role, class_map, adj_full, adj_train, adj_val, edge_src_dst = run(task = 'Tm' , isbalance = False)"
   ]
  },
  {
   "cell_type": "code",
   "execution_count": 226,
   "metadata": {},
   "outputs": [
    {
     "name": "stdout",
     "output_type": "stream",
     "text": [
      "# Drug = 184 | Mutation = 661\n",
      "# Test: Drug = 36 | Mutation = 132\n"
     ]
    },
    {
     "name": "stderr",
     "output_type": "stream",
     "text": [
      "100%|██████████| 121624/121624 [00:00<00:00, 734465.32it/s]\n"
     ]
    },
    {
     "name": "stdout",
     "output_type": "stream",
     "text": [
      "adj_full  num edges: 121624\n",
      "adj_val   num edges: 24288\n",
      "adj_train num edges: 97336\n"
     ]
    },
    {
     "name": "stderr",
     "output_type": "stream",
     "text": [
      "100%|██████████| 121624/121624 [00:00<00:00, 743468.63it/s]\n"
     ]
    },
    {
     "name": "stdout",
     "output_type": "stream",
     "text": [
      "adj_full  num edges: 121624\n",
      "adj_val   num edges: 24288\n",
      "adj_train num edges: 97336\n"
     ]
    },
    {
     "name": "stderr",
     "output_type": "stream",
     "text": [
      "100%|██████████| 121624/121624 [00:00<00:00, 743676.73it/s]\n"
     ]
    },
    {
     "name": "stdout",
     "output_type": "stream",
     "text": [
      "adj_full  num edges: 121624\n",
      "adj_val   num edges: 24288\n",
      "adj_train num edges: 97336\n"
     ]
    },
    {
     "name": "stderr",
     "output_type": "stream",
     "text": [
      "100%|██████████| 121624/121624 [00:00<00:00, 743562.91it/s]\n"
     ]
    },
    {
     "name": "stdout",
     "output_type": "stream",
     "text": [
      "adj_full  num edges: 121624\n",
      "adj_val   num edges: 24288\n",
      "adj_train num edges: 97336\n"
     ]
    },
    {
     "name": "stderr",
     "output_type": "stream",
     "text": [
      "100%|██████████| 121624/121624 [00:00<00:00, 734639.84it/s]\n"
     ]
    },
    {
     "name": "stdout",
     "output_type": "stream",
     "text": [
      "adj_full  num edges: 121624\n",
      "adj_val   num edges: 24472\n",
      "adj_train num edges: 97152\n",
      "--Complete-- 5\n",
      "# Drug = 184 | Mutation = 661\n",
      "# Test: Drug = 36 | Mutation = 132\n"
     ]
    },
    {
     "name": "stderr",
     "output_type": "stream",
     "text": [
      "100%|██████████| 364872/364872 [00:00<00:00, 867878.57it/s]\n"
     ]
    },
    {
     "name": "stdout",
     "output_type": "stream",
     "text": [
      "adj_full  num edges: 364872\n",
      "adj_val   num edges: 34054\n",
      "adj_train num edges: 253275\n"
     ]
    },
    {
     "name": "stderr",
     "output_type": "stream",
     "text": [
      "100%|██████████| 364872/364872 [00:00<00:00, 860838.04it/s]\n"
     ]
    },
    {
     "name": "stdout",
     "output_type": "stream",
     "text": [
      "adj_full  num edges: 364872\n",
      "adj_val   num edges: 33973\n",
      "adj_train num edges: 253240\n"
     ]
    },
    {
     "name": "stderr",
     "output_type": "stream",
     "text": [
      "100%|██████████| 364872/364872 [00:00<00:00, 874179.50it/s]\n"
     ]
    },
    {
     "name": "stdout",
     "output_type": "stream",
     "text": [
      "adj_full  num edges: 364872\n",
      "adj_val   num edges: 34039\n",
      "adj_train num edges: 253146\n"
     ]
    },
    {
     "name": "stderr",
     "output_type": "stream",
     "text": [
      "100%|██████████| 364872/364872 [00:00<00:00, 873145.58it/s]\n"
     ]
    },
    {
     "name": "stdout",
     "output_type": "stream",
     "text": [
      "adj_full  num edges: 364872\n",
      "adj_val   num edges: 33889\n",
      "adj_train num edges: 253052\n"
     ]
    },
    {
     "name": "stderr",
     "output_type": "stream",
     "text": [
      "100%|██████████| 364872/364872 [00:00<00:00, 875160.81it/s]\n"
     ]
    },
    {
     "name": "stdout",
     "output_type": "stream",
     "text": [
      "adj_full  num edges: 364872\n",
      "adj_val   num edges: 34333\n",
      "adj_train num edges: 252191\n",
      "--Complete-- 5\n",
      "# Drug = 184 | Mutation = 661\n",
      "# Test: Drug = 36 | Mutation = 132\n"
     ]
    },
    {
     "name": "stderr",
     "output_type": "stream",
     "text": [
      "100%|██████████| 608120/608120 [00:00<00:00, 844523.83it/s]\n"
     ]
    },
    {
     "name": "stdout",
     "output_type": "stream",
     "text": [
      "adj_full  num edges: 608120\n",
      "adj_val   num edges: 43632\n",
      "adj_train num edges: 408880\n"
     ]
    },
    {
     "name": "stderr",
     "output_type": "stream",
     "text": [
      "100%|██████████| 608120/608120 [00:00<00:00, 846834.79it/s]\n"
     ]
    },
    {
     "name": "stdout",
     "output_type": "stream",
     "text": [
      "adj_full  num edges: 608120\n",
      "adj_val   num edges: 43768\n",
      "adj_train num edges: 408916\n"
     ]
    },
    {
     "name": "stderr",
     "output_type": "stream",
     "text": [
      "100%|██████████| 608120/608120 [00:00<00:00, 868584.82it/s]\n"
     ]
    },
    {
     "name": "stdout",
     "output_type": "stream",
     "text": [
      "adj_full  num edges: 608120\n",
      "adj_val   num edges: 43773\n",
      "adj_train num edges: 409060\n"
     ]
    },
    {
     "name": "stderr",
     "output_type": "stream",
     "text": [
      "100%|██████████| 608120/608120 [00:00<00:00, 847858.60it/s]\n"
     ]
    },
    {
     "name": "stdout",
     "output_type": "stream",
     "text": [
      "adj_full  num edges: 608120\n",
      "adj_val   num edges: 43559\n",
      "adj_train num edges: 408860\n"
     ]
    },
    {
     "name": "stderr",
     "output_type": "stream",
     "text": [
      "100%|██████████| 608120/608120 [00:00<00:00, 821759.15it/s]\n"
     ]
    },
    {
     "name": "stdout",
     "output_type": "stream",
     "text": [
      "adj_full  num edges: 608120\n",
      "adj_val   num edges: 43921\n",
      "adj_train num edges: 407297\n",
      "--Complete-- 5\n",
      "# Drug = 184 | Mutation = 661\n",
      "# Test: Drug = 36 | Mutation = 132\n"
     ]
    },
    {
     "name": "stderr",
     "output_type": "stream",
     "text": [
      "100%|██████████| 851368/851368 [00:01<00:00, 824777.44it/s]\n"
     ]
    },
    {
     "name": "stdout",
     "output_type": "stream",
     "text": [
      "adj_full  num edges: 851368\n",
      "adj_val   num edges: 53195\n",
      "adj_train num edges: 564411\n"
     ]
    },
    {
     "name": "stderr",
     "output_type": "stream",
     "text": [
      "100%|██████████| 851368/851368 [00:01<00:00, 849040.29it/s]\n"
     ]
    },
    {
     "name": "stdout",
     "output_type": "stream",
     "text": [
      "adj_full  num edges: 851368\n",
      "adj_val   num edges: 53525\n",
      "adj_train num edges: 564850\n"
     ]
    },
    {
     "name": "stderr",
     "output_type": "stream",
     "text": [
      "100%|██████████| 851368/851368 [00:01<00:00, 841860.72it/s]\n"
     ]
    },
    {
     "name": "stdout",
     "output_type": "stream",
     "text": [
      "adj_full  num edges: 851368\n",
      "adj_val   num edges: 53396\n",
      "adj_train num edges: 564678\n"
     ]
    },
    {
     "name": "stderr",
     "output_type": "stream",
     "text": [
      "100%|██████████| 851368/851368 [00:00<00:00, 869292.07it/s]\n"
     ]
    },
    {
     "name": "stdout",
     "output_type": "stream",
     "text": [
      "adj_full  num edges: 851368\n",
      "adj_val   num edges: 53162\n",
      "adj_train num edges: 564683\n"
     ]
    },
    {
     "name": "stderr",
     "output_type": "stream",
     "text": [
      "100%|██████████| 851368/851368 [00:00<00:00, 854871.01it/s]\n"
     ]
    },
    {
     "name": "stdout",
     "output_type": "stream",
     "text": [
      "adj_full  num edges: 851368\n",
      "adj_val   num edges: 53662\n",
      "adj_train num edges: 562422\n",
      "--Complete-- 5\n",
      "# Drug = 184 | Mutation = 661\n",
      "# Test: Drug = 36 | Mutation = 132\n"
     ]
    },
    {
     "name": "stderr",
     "output_type": "stream",
     "text": [
      "100%|██████████| 1216240/1216240 [00:01<00:00, 871083.53it/s]\n"
     ]
    },
    {
     "name": "stdout",
     "output_type": "stream",
     "text": [
      "adj_full  num edges: 1216240\n",
      "adj_val   num edges: 67584\n",
      "adj_train num edges: 797960\n"
     ]
    },
    {
     "name": "stderr",
     "output_type": "stream",
     "text": [
      "100%|██████████| 1216240/1216240 [00:01<00:00, 871391.54it/s]\n"
     ]
    },
    {
     "name": "stdout",
     "output_type": "stream",
     "text": [
      "adj_full  num edges: 1216240\n",
      "adj_val   num edges: 67882\n",
      "adj_train num edges: 798518\n"
     ]
    },
    {
     "name": "stderr",
     "output_type": "stream",
     "text": [
      "100%|██████████| 1216240/1216240 [00:01<00:00, 898295.39it/s]\n"
     ]
    },
    {
     "name": "stdout",
     "output_type": "stream",
     "text": [
      "adj_full  num edges: 1216240\n",
      "adj_val   num edges: 67820\n",
      "adj_train num edges: 798207\n"
     ]
    },
    {
     "name": "stderr",
     "output_type": "stream",
     "text": [
      "100%|██████████| 1216240/1216240 [00:01<00:00, 875763.94it/s]\n"
     ]
    },
    {
     "name": "stdout",
     "output_type": "stream",
     "text": [
      "adj_full  num edges: 1216240\n",
      "adj_val   num edges: 67506\n",
      "adj_train num edges: 798048\n"
     ]
    },
    {
     "name": "stderr",
     "output_type": "stream",
     "text": [
      "100%|██████████| 1216240/1216240 [00:01<00:00, 873561.95it/s]\n"
     ]
    },
    {
     "name": "stdout",
     "output_type": "stream",
     "text": [
      "adj_full  num edges: 1216240\n",
      "adj_val   num edges: 68465\n",
      "adj_train num edges: 795244\n",
      "--Complete-- 5\n",
      "# Drug = 184 | Mutation = 661\n",
      "# Test: Drug = 36 | Mutation = 132\n"
     ]
    },
    {
     "name": "stderr",
     "output_type": "stream",
     "text": [
      "100%|██████████| 1824360/1824360 [00:02<00:00, 877937.68it/s]\n"
     ]
    },
    {
     "name": "stdout",
     "output_type": "stream",
     "text": [
      "adj_full  num edges: 1824360\n",
      "adj_val   num edges: 91610\n",
      "adj_train num edges: 1187134\n"
     ]
    },
    {
     "name": "stderr",
     "output_type": "stream",
     "text": [
      "100%|██████████| 1824360/1824360 [00:02<00:00, 881687.06it/s]\n"
     ]
    },
    {
     "name": "stdout",
     "output_type": "stream",
     "text": [
      "adj_full  num edges: 1824360\n",
      "adj_val   num edges: 91760\n",
      "adj_train num edges: 1187724\n"
     ]
    },
    {
     "name": "stderr",
     "output_type": "stream",
     "text": [
      "100%|██████████| 1824360/1824360 [00:02<00:00, 904358.43it/s]\n"
     ]
    },
    {
     "name": "stdout",
     "output_type": "stream",
     "text": [
      "adj_full  num edges: 1824360\n",
      "adj_val   num edges: 91909\n",
      "adj_train num edges: 1187590\n"
     ]
    },
    {
     "name": "stderr",
     "output_type": "stream",
     "text": [
      "100%|██████████| 1824360/1824360 [00:02<00:00, 895802.15it/s]\n"
     ]
    },
    {
     "name": "stdout",
     "output_type": "stream",
     "text": [
      "adj_full  num edges: 1824360\n",
      "adj_val   num edges: 91562\n",
      "adj_train num edges: 1187288\n"
     ]
    },
    {
     "name": "stderr",
     "output_type": "stream",
     "text": [
      "100%|██████████| 1824360/1824360 [00:02<00:00, 878344.01it/s]\n"
     ]
    },
    {
     "name": "stdout",
     "output_type": "stream",
     "text": [
      "adj_full  num edges: 1824360\n",
      "adj_val   num edges: 93017\n",
      "adj_train num edges: 1183202\n",
      "--Complete-- 5\n"
     ]
    }
   ],
   "source": [
    "# for n_neigh in [1, 3, 5, 7, 15]: \n",
    "node_feature_label, num_node, node_feat, label, mirna_ids, disease_ids, train_index_all, test_index_all, \\\n",
    "feats, role, class_map, adj_full, adj_train, adj_val, edge_src_dst = run(task = 'Td', isbalance = False)"
   ]
  },
  {
   "cell_type": "code",
   "execution_count": null,
   "metadata": {},
   "outputs": [],
   "source": []
  }
 ],
 "metadata": {
  "anaconda-cloud": {},
  "kernelspec": {
   "display_name": "Python 3 (ipykernel)",
   "language": "python",
   "name": "python3"
  },
  "language_info": {
   "codemirror_mode": {
    "name": "ipython",
    "version": 3
   },
   "file_extension": ".py",
   "mimetype": "text/x-python",
   "name": "python",
   "nbconvert_exporter": "python",
   "pygments_lexer": "ipython3",
   "version": "3.9.12"
  }
 },
 "nbformat": 4,
 "nbformat_minor": 1
}
